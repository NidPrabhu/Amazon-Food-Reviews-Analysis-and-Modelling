{
 "cells": [
  {
   "cell_type": "markdown",
   "metadata": {},
   "source": [
    "# Amazon Food Reviews - [Decision Trees]\n",
    "\n",
    "Data Source:https://www.kaggle.com/snap/amazon-fine-food-reviews\n",
    "\n",
    "This dataset consists of reviews of fine foods from Amazon. The data span a period of more than 10 years, including all ~500,000 reviews up to October 2012. Reviews include product and user information, ratings, and a plain text review. It also includes reviews from all other Amazon categories.\n",
    "\n",
    "![alt text](http://nycdatascience.com/blog/wp-content/uploads/2016/04/NewCover.png)"
   ]
  },
  {
   "cell_type": "markdown",
   "metadata": {},
   "source": [
    "## Excerpt \n",
    "1. Applied Decision Trees on Different Featurization of Data viz. BOW(uni-gram,bi-gram), tfidf, Avg-Word2Vec(using Word2Vec model pretrained on Google News) and tf-idf-Word2Vec <br>\n",
    "2. Used both Grid Search with random 30 points for getting the best max_depth <br>\n",
    "3. Evaluated the test data on various performance metrics like accuracy, f1-score, precision, recall,etc. also plotted Confusion matrix using seaborne<br>\n",
    "4. Plotted feature importance recieved from the decision tree classifier<br>"
   ]
  },
  {
   "cell_type": "markdown",
   "metadata": {},
   "source": [
    "#### Data includes:\n",
    "- Reviews from Oct 1999 - Oct 2012\n",
    "- 568,454 reviews\n",
    "- 256,059 users\n",
    "- 74,258 products\n",
    "- 260 users with > 50 reviews\n",
    "\n",
    "#### Attribute Information:\n",
    "\n",
    "1. Id\n",
    "2. ProductId - unique identifier for the product\n",
    "3. UserId - unqiue identifier for the user\n",
    "4. ProfileName\n",
    "5. HelpfulnessNumerator - number of users who found the review helpful\n",
    "6. HelpfulnessDenominator - number of users who indicated whether they found the review helpful or not\n",
    "7. Score - rating between 1 and 5\n",
    "8. Time - timestamp for the review\n",
    "9. Summary - brief summary of the review\n",
    "10. Text - text of the review"
   ]
  },
  {
   "cell_type": "markdown",
   "metadata": {},
   "source": [
    "![alt text](http://nycdatascience.com/blog/wp-content/uploads/2016/04/AmazonReview.png)"
   ]
  },
  {
   "cell_type": "markdown",
   "metadata": {},
   "source": [
    "\n",
    "### Objective:- Review Polarity\n",
    "Given a review, determine the review is positive or negative\n",
    "\n",
    "#### Using text review to decide the polarity\n",
    "Take the summary and text of review and analyze it using NLP whether the customer feedback/review is positive or negative\n"
   ]
  },
  {
   "cell_type": "code",
   "execution_count": 1,
   "metadata": {},
   "outputs": [],
   "source": [
    "#Imports\n",
    "import numpy as np\n",
    "import pandas as pd\n",
    "import matplotlib.pyplot as plt\n",
    "import sqlite3 as sql\n",
    "import seaborn as sns\n",
    "from time import time\n",
    "import random\n",
    "import gensim\n",
    "import warnings\n",
    "\n",
    "#Metrics\n",
    "from sklearn.metrics import accuracy_score\n",
    "from sklearn.metrics import confusion_matrix\n",
    "from sklearn.metrics import precision_score\n",
    "from sklearn.metrics import f1_score\n",
    "from sklearn.metrics import recall_score\n",
    "\n",
    "warnings.filterwarnings(\"ignore\")\n",
    "\n",
    "%matplotlib inline \n",
    "# sets the backend of matplotlib to the 'inline' backend:\n",
    "#With this backend, the output of plotting commands is displayed inline within frontends like the Jupyter notebook,\n",
    "#directly below the code cell that produced it. The resulting plots will then also be stored in the notebook document.\n",
    "\n",
    "#Functions to save objects for later use and retireve it\n",
    "import pickle\n",
    "def savetofile(obj,filename):\n",
    "    pickle.dump(obj,open(filename+\".p\",\"wb\"))\n",
    "def openfromfile(filename):\n",
    "    temp = pickle.load(open(filename+\".p\",\"rb\"))\n",
    "    return temp"
   ]
  },
  {
   "cell_type": "markdown",
   "metadata": {},
   "source": [
    "### Loading the data"
   ]
  },
  {
   "cell_type": "code",
   "execution_count": 4,
   "metadata": {
    "scrolled": true
   },
   "outputs": [
    {
     "data": {
      "text/html": [
       "<div>\n",
       "<style>\n",
       "    .dataframe thead tr:only-child th {\n",
       "        text-align: right;\n",
       "    }\n",
       "\n",
       "    .dataframe thead th {\n",
       "        text-align: left;\n",
       "    }\n",
       "\n",
       "    .dataframe tbody tr th {\n",
       "        vertical-align: top;\n",
       "    }\n",
       "</style>\n",
       "<table border=\"1\" class=\"dataframe\">\n",
       "  <thead>\n",
       "    <tr style=\"text-align: right;\">\n",
       "      <th></th>\n",
       "      <th>index</th>\n",
       "      <th>Id</th>\n",
       "      <th>ProductId</th>\n",
       "      <th>UserId</th>\n",
       "      <th>ProfileName</th>\n",
       "      <th>HelpfulnessNumerator</th>\n",
       "      <th>HelpfulnessDenominator</th>\n",
       "      <th>Score</th>\n",
       "      <th>Time</th>\n",
       "      <th>Summary</th>\n",
       "      <th>Text</th>\n",
       "      <th>CleanedText</th>\n",
       "      <th>CleanedText_NoStem</th>\n",
       "    </tr>\n",
       "  </thead>\n",
       "  <tbody>\n",
       "    <tr>\n",
       "      <th>0</th>\n",
       "      <td>0</td>\n",
       "      <td>1</td>\n",
       "      <td>B001E4KFG0</td>\n",
       "      <td>A3SGXH7AUHU8GW</td>\n",
       "      <td>delmartian</td>\n",
       "      <td>1</td>\n",
       "      <td>1</td>\n",
       "      <td>Positive</td>\n",
       "      <td>1303862400</td>\n",
       "      <td>Good Quality Dog Food</td>\n",
       "      <td>I have bought several of the Vitality canned d...</td>\n",
       "      <td>b'bought sever vital can dog food product foun...</td>\n",
       "      <td>b'bought several vitality canned dog food prod...</td>\n",
       "    </tr>\n",
       "    <tr>\n",
       "      <th>1</th>\n",
       "      <td>1</td>\n",
       "      <td>2</td>\n",
       "      <td>B00813GRG4</td>\n",
       "      <td>A1D87F6ZCVE5NK</td>\n",
       "      <td>dll pa</td>\n",
       "      <td>0</td>\n",
       "      <td>0</td>\n",
       "      <td>Negative</td>\n",
       "      <td>1346976000</td>\n",
       "      <td>Not as Advertised</td>\n",
       "      <td>Product arrived labeled as Jumbo Salted Peanut...</td>\n",
       "      <td>b'product arriv label jumbo salt peanutsth pea...</td>\n",
       "      <td>b'product arrived labeled jumbo salted peanuts...</td>\n",
       "    </tr>\n",
       "    <tr>\n",
       "      <th>2</th>\n",
       "      <td>2</td>\n",
       "      <td>3</td>\n",
       "      <td>B000LQOCH0</td>\n",
       "      <td>ABXLMWJIXXAIN</td>\n",
       "      <td>Natalia Corres \"Natalia Corres\"</td>\n",
       "      <td>1</td>\n",
       "      <td>1</td>\n",
       "      <td>Positive</td>\n",
       "      <td>1219017600</td>\n",
       "      <td>\"Delight\" says it all</td>\n",
       "      <td>This is a confection that has been around a fe...</td>\n",
       "      <td>b'confect around centuri light pillowi citrus ...</td>\n",
       "      <td>b'confection around centuries light pillowy ci...</td>\n",
       "    </tr>\n",
       "    <tr>\n",
       "      <th>3</th>\n",
       "      <td>3</td>\n",
       "      <td>4</td>\n",
       "      <td>B000UA0QIQ</td>\n",
       "      <td>A395BORC6FGVXV</td>\n",
       "      <td>Karl</td>\n",
       "      <td>3</td>\n",
       "      <td>3</td>\n",
       "      <td>Negative</td>\n",
       "      <td>1307923200</td>\n",
       "      <td>Cough Medicine</td>\n",
       "      <td>If you are looking for the secret ingredient i...</td>\n",
       "      <td>b'look secret ingredi robitussin believ found ...</td>\n",
       "      <td>b'looking secret ingredient robitussin believe...</td>\n",
       "    </tr>\n",
       "    <tr>\n",
       "      <th>4</th>\n",
       "      <td>4</td>\n",
       "      <td>5</td>\n",
       "      <td>B006K2ZZ7K</td>\n",
       "      <td>A1UQRSCLF8GW1T</td>\n",
       "      <td>Michael D. Bigham \"M. Wassir\"</td>\n",
       "      <td>0</td>\n",
       "      <td>0</td>\n",
       "      <td>Positive</td>\n",
       "      <td>1350777600</td>\n",
       "      <td>Great taffy</td>\n",
       "      <td>Great taffy at a great price.  There was a wid...</td>\n",
       "      <td>b'great taffi great price wide assort yummi ta...</td>\n",
       "      <td>b'great taffy great price wide assortment yumm...</td>\n",
       "    </tr>\n",
       "  </tbody>\n",
       "</table>\n",
       "</div>"
      ],
      "text/plain": [
       "   index  Id   ProductId          UserId                      ProfileName  \\\n",
       "0      0   1  B001E4KFG0  A3SGXH7AUHU8GW                       delmartian   \n",
       "1      1   2  B00813GRG4  A1D87F6ZCVE5NK                           dll pa   \n",
       "2      2   3  B000LQOCH0   ABXLMWJIXXAIN  Natalia Corres \"Natalia Corres\"   \n",
       "3      3   4  B000UA0QIQ  A395BORC6FGVXV                             Karl   \n",
       "4      4   5  B006K2ZZ7K  A1UQRSCLF8GW1T    Michael D. Bigham \"M. Wassir\"   \n",
       "\n",
       "   HelpfulnessNumerator  HelpfulnessDenominator     Score        Time  \\\n",
       "0                     1                       1  Positive  1303862400   \n",
       "1                     0                       0  Negative  1346976000   \n",
       "2                     1                       1  Positive  1219017600   \n",
       "3                     3                       3  Negative  1307923200   \n",
       "4                     0                       0  Positive  1350777600   \n",
       "\n",
       "                 Summary                                               Text  \\\n",
       "0  Good Quality Dog Food  I have bought several of the Vitality canned d...   \n",
       "1      Not as Advertised  Product arrived labeled as Jumbo Salted Peanut...   \n",
       "2  \"Delight\" says it all  This is a confection that has been around a fe...   \n",
       "3         Cough Medicine  If you are looking for the secret ingredient i...   \n",
       "4            Great taffy  Great taffy at a great price.  There was a wid...   \n",
       "\n",
       "                                         CleanedText  \\\n",
       "0  b'bought sever vital can dog food product foun...   \n",
       "1  b'product arriv label jumbo salt peanutsth pea...   \n",
       "2  b'confect around centuri light pillowi citrus ...   \n",
       "3  b'look secret ingredi robitussin believ found ...   \n",
       "4  b'great taffi great price wide assort yummi ta...   \n",
       "\n",
       "                                  CleanedText_NoStem  \n",
       "0  b'bought several vitality canned dog food prod...  \n",
       "1  b'product arrived labeled jumbo salted peanuts...  \n",
       "2  b'confection around centuries light pillowy ci...  \n",
       "3  b'looking secret ingredient robitussin believe...  \n",
       "4  b'great taffy great price wide assortment yumm...  "
      ]
     },
     "execution_count": 4,
     "metadata": {},
     "output_type": "execute_result"
    }
   ],
   "source": [
    "#Using sqlite3 to retrieve data from sqlite file\n",
    "\n",
    "con = sql.connect(\"final.sqlite\")#Loading Cleaned/ Preprocesed text that we did in Text Preprocessing\n",
    "\n",
    "#Using pandas functions to query from sql table\n",
    "df = pd.read_sql_query(\"\"\"\n",
    "SELECT * FROM Reviews \n",
    "\"\"\",con)\n",
    "\n",
    "#Reviews is the name of the table given\n",
    "#Taking only the data where score != 3 as score 3 will be neutral and it won't help us much\n",
    "df.head()"
   ]
  },
  {
   "cell_type": "code",
   "execution_count": 5,
   "metadata": {},
   "outputs": [
    {
     "data": {
      "text/html": [
       "<div>\n",
       "<style>\n",
       "    .dataframe thead tr:only-child th {\n",
       "        text-align: right;\n",
       "    }\n",
       "\n",
       "    .dataframe thead th {\n",
       "        text-align: left;\n",
       "    }\n",
       "\n",
       "    .dataframe tbody tr th {\n",
       "        vertical-align: top;\n",
       "    }\n",
       "</style>\n",
       "<table border=\"1\" class=\"dataframe\">\n",
       "  <thead>\n",
       "    <tr style=\"text-align: right;\">\n",
       "      <th></th>\n",
       "      <th>index</th>\n",
       "      <th>Id</th>\n",
       "      <th>HelpfulnessNumerator</th>\n",
       "      <th>HelpfulnessDenominator</th>\n",
       "      <th>Time</th>\n",
       "    </tr>\n",
       "  </thead>\n",
       "  <tbody>\n",
       "    <tr>\n",
       "      <th>count</th>\n",
       "      <td>364171.000000</td>\n",
       "      <td>364171.000000</td>\n",
       "      <td>364171.000000</td>\n",
       "      <td>364171.000000</td>\n",
       "      <td>3.641710e+05</td>\n",
       "    </tr>\n",
       "    <tr>\n",
       "      <th>mean</th>\n",
       "      <td>241825.377603</td>\n",
       "      <td>261814.561014</td>\n",
       "      <td>1.739021</td>\n",
       "      <td>2.186841</td>\n",
       "      <td>1.296135e+09</td>\n",
       "    </tr>\n",
       "    <tr>\n",
       "      <th>std</th>\n",
       "      <td>154519.869452</td>\n",
       "      <td>166958.768333</td>\n",
       "      <td>6.723921</td>\n",
       "      <td>7.348482</td>\n",
       "      <td>4.864772e+07</td>\n",
       "    </tr>\n",
       "    <tr>\n",
       "      <th>min</th>\n",
       "      <td>0.000000</td>\n",
       "      <td>1.000000</td>\n",
       "      <td>0.000000</td>\n",
       "      <td>0.000000</td>\n",
       "      <td>9.393408e+08</td>\n",
       "    </tr>\n",
       "    <tr>\n",
       "      <th>25%</th>\n",
       "      <td>104427.500000</td>\n",
       "      <td>113379.500000</td>\n",
       "      <td>0.000000</td>\n",
       "      <td>0.000000</td>\n",
       "      <td>1.270858e+09</td>\n",
       "    </tr>\n",
       "    <tr>\n",
       "      <th>50%</th>\n",
       "      <td>230033.000000</td>\n",
       "      <td>249445.000000</td>\n",
       "      <td>0.000000</td>\n",
       "      <td>1.000000</td>\n",
       "      <td>1.311379e+09</td>\n",
       "    </tr>\n",
       "    <tr>\n",
       "      <th>75%</th>\n",
       "      <td>376763.500000</td>\n",
       "      <td>407408.500000</td>\n",
       "      <td>2.000000</td>\n",
       "      <td>2.000000</td>\n",
       "      <td>1.332893e+09</td>\n",
       "    </tr>\n",
       "    <tr>\n",
       "      <th>max</th>\n",
       "      <td>525813.000000</td>\n",
       "      <td>568454.000000</td>\n",
       "      <td>866.000000</td>\n",
       "      <td>878.000000</td>\n",
       "      <td>1.351210e+09</td>\n",
       "    </tr>\n",
       "  </tbody>\n",
       "</table>\n",
       "</div>"
      ],
      "text/plain": [
       "               index             Id  HelpfulnessNumerator  \\\n",
       "count  364171.000000  364171.000000         364171.000000   \n",
       "mean   241825.377603  261814.561014              1.739021   \n",
       "std    154519.869452  166958.768333              6.723921   \n",
       "min         0.000000       1.000000              0.000000   \n",
       "25%    104427.500000  113379.500000              0.000000   \n",
       "50%    230033.000000  249445.000000              0.000000   \n",
       "75%    376763.500000  407408.500000              2.000000   \n",
       "max    525813.000000  568454.000000            866.000000   \n",
       "\n",
       "       HelpfulnessDenominator          Time  \n",
       "count           364171.000000  3.641710e+05  \n",
       "mean                 2.186841  1.296135e+09  \n",
       "std                  7.348482  4.864772e+07  \n",
       "min                  0.000000  9.393408e+08  \n",
       "25%                  0.000000  1.270858e+09  \n",
       "50%                  1.000000  1.311379e+09  \n",
       "75%                  2.000000  1.332893e+09  \n",
       "max                878.000000  1.351210e+09  "
      ]
     },
     "execution_count": 5,
     "metadata": {},
     "output_type": "execute_result"
    }
   ],
   "source": [
    "df.describe()"
   ]
  },
  {
   "cell_type": "code",
   "execution_count": 6,
   "metadata": {},
   "outputs": [
    {
     "data": {
      "text/plain": [
       "364171"
      ]
     },
     "execution_count": 6,
     "metadata": {},
     "output_type": "execute_result"
    }
   ],
   "source": [
    "df.shape\n",
    "df['Score'].size"
   ]
  },
  {
   "cell_type": "markdown",
   "metadata": {},
   "source": [
    "## For EDA and Text Preprecessing Refer other ipynb notebook<b>"
   ]
  },
  {
   "cell_type": "code",
   "execution_count": 7,
   "metadata": {
    "scrolled": true
   },
   "outputs": [
    {
     "data": {
      "text/html": [
       "<div>\n",
       "<style>\n",
       "    .dataframe thead tr:only-child th {\n",
       "        text-align: right;\n",
       "    }\n",
       "\n",
       "    .dataframe thead th {\n",
       "        text-align: left;\n",
       "    }\n",
       "\n",
       "    .dataframe tbody tr th {\n",
       "        vertical-align: top;\n",
       "    }\n",
       "</style>\n",
       "<table border=\"1\" class=\"dataframe\">\n",
       "  <thead>\n",
       "    <tr style=\"text-align: right;\">\n",
       "      <th></th>\n",
       "      <th>index</th>\n",
       "      <th>Id</th>\n",
       "      <th>ProductId</th>\n",
       "      <th>UserId</th>\n",
       "      <th>ProfileName</th>\n",
       "      <th>HelpfulnessNumerator</th>\n",
       "      <th>HelpfulnessDenominator</th>\n",
       "      <th>Score</th>\n",
       "      <th>Time</th>\n",
       "      <th>Summary</th>\n",
       "      <th>Text</th>\n",
       "      <th>CleanedText</th>\n",
       "      <th>CleanedText_NoStem</th>\n",
       "    </tr>\n",
       "  </thead>\n",
       "  <tbody>\n",
       "    <tr>\n",
       "      <th>0</th>\n",
       "      <td>0</td>\n",
       "      <td>1</td>\n",
       "      <td>B001E4KFG0</td>\n",
       "      <td>A3SGXH7AUHU8GW</td>\n",
       "      <td>delmartian</td>\n",
       "      <td>1</td>\n",
       "      <td>1</td>\n",
       "      <td>0</td>\n",
       "      <td>1303862400</td>\n",
       "      <td>Good Quality Dog Food</td>\n",
       "      <td>I have bought several of the Vitality canned d...</td>\n",
       "      <td>b'bought sever vital can dog food product foun...</td>\n",
       "      <td>b'bought several vitality canned dog food prod...</td>\n",
       "    </tr>\n",
       "    <tr>\n",
       "      <th>1</th>\n",
       "      <td>1</td>\n",
       "      <td>2</td>\n",
       "      <td>B00813GRG4</td>\n",
       "      <td>A1D87F6ZCVE5NK</td>\n",
       "      <td>dll pa</td>\n",
       "      <td>0</td>\n",
       "      <td>0</td>\n",
       "      <td>1</td>\n",
       "      <td>1346976000</td>\n",
       "      <td>Not as Advertised</td>\n",
       "      <td>Product arrived labeled as Jumbo Salted Peanut...</td>\n",
       "      <td>b'product arriv label jumbo salt peanutsth pea...</td>\n",
       "      <td>b'product arrived labeled jumbo salted peanuts...</td>\n",
       "    </tr>\n",
       "    <tr>\n",
       "      <th>2</th>\n",
       "      <td>2</td>\n",
       "      <td>3</td>\n",
       "      <td>B000LQOCH0</td>\n",
       "      <td>ABXLMWJIXXAIN</td>\n",
       "      <td>Natalia Corres \"Natalia Corres\"</td>\n",
       "      <td>1</td>\n",
       "      <td>1</td>\n",
       "      <td>0</td>\n",
       "      <td>1219017600</td>\n",
       "      <td>\"Delight\" says it all</td>\n",
       "      <td>This is a confection that has been around a fe...</td>\n",
       "      <td>b'confect around centuri light pillowi citrus ...</td>\n",
       "      <td>b'confection around centuries light pillowy ci...</td>\n",
       "    </tr>\n",
       "    <tr>\n",
       "      <th>3</th>\n",
       "      <td>3</td>\n",
       "      <td>4</td>\n",
       "      <td>B000UA0QIQ</td>\n",
       "      <td>A395BORC6FGVXV</td>\n",
       "      <td>Karl</td>\n",
       "      <td>3</td>\n",
       "      <td>3</td>\n",
       "      <td>1</td>\n",
       "      <td>1307923200</td>\n",
       "      <td>Cough Medicine</td>\n",
       "      <td>If you are looking for the secret ingredient i...</td>\n",
       "      <td>b'look secret ingredi robitussin believ found ...</td>\n",
       "      <td>b'looking secret ingredient robitussin believe...</td>\n",
       "    </tr>\n",
       "    <tr>\n",
       "      <th>4</th>\n",
       "      <td>4</td>\n",
       "      <td>5</td>\n",
       "      <td>B006K2ZZ7K</td>\n",
       "      <td>A1UQRSCLF8GW1T</td>\n",
       "      <td>Michael D. Bigham \"M. Wassir\"</td>\n",
       "      <td>0</td>\n",
       "      <td>0</td>\n",
       "      <td>0</td>\n",
       "      <td>1350777600</td>\n",
       "      <td>Great taffy</td>\n",
       "      <td>Great taffy at a great price.  There was a wid...</td>\n",
       "      <td>b'great taffi great price wide assort yummi ta...</td>\n",
       "      <td>b'great taffy great price wide assortment yumm...</td>\n",
       "    </tr>\n",
       "  </tbody>\n",
       "</table>\n",
       "</div>"
      ],
      "text/plain": [
       "   index  Id   ProductId          UserId                      ProfileName  \\\n",
       "0      0   1  B001E4KFG0  A3SGXH7AUHU8GW                       delmartian   \n",
       "1      1   2  B00813GRG4  A1D87F6ZCVE5NK                           dll pa   \n",
       "2      2   3  B000LQOCH0   ABXLMWJIXXAIN  Natalia Corres \"Natalia Corres\"   \n",
       "3      3   4  B000UA0QIQ  A395BORC6FGVXV                             Karl   \n",
       "4      4   5  B006K2ZZ7K  A1UQRSCLF8GW1T    Michael D. Bigham \"M. Wassir\"   \n",
       "\n",
       "   HelpfulnessNumerator  HelpfulnessDenominator  Score        Time  \\\n",
       "0                     1                       1      0  1303862400   \n",
       "1                     0                       0      1  1346976000   \n",
       "2                     1                       1      0  1219017600   \n",
       "3                     3                       3      1  1307923200   \n",
       "4                     0                       0      0  1350777600   \n",
       "\n",
       "                 Summary                                               Text  \\\n",
       "0  Good Quality Dog Food  I have bought several of the Vitality canned d...   \n",
       "1      Not as Advertised  Product arrived labeled as Jumbo Salted Peanut...   \n",
       "2  \"Delight\" says it all  This is a confection that has been around a fe...   \n",
       "3         Cough Medicine  If you are looking for the secret ingredient i...   \n",
       "4            Great taffy  Great taffy at a great price.  There was a wid...   \n",
       "\n",
       "                                         CleanedText  \\\n",
       "0  b'bought sever vital can dog food product foun...   \n",
       "1  b'product arriv label jumbo salt peanutsth pea...   \n",
       "2  b'confect around centuri light pillowi citrus ...   \n",
       "3  b'look secret ingredi robitussin believ found ...   \n",
       "4  b'great taffi great price wide assort yummi ta...   \n",
       "\n",
       "                                  CleanedText_NoStem  \n",
       "0  b'bought several vitality canned dog food prod...  \n",
       "1  b'product arrived labeled jumbo salted peanuts...  \n",
       "2  b'confection around centuries light pillowy ci...  \n",
       "3  b'looking secret ingredient robitussin believe...  \n",
       "4  b'great taffy great price wide assortment yumm...  "
      ]
     },
     "execution_count": 7,
     "metadata": {},
     "output_type": "execute_result"
    }
   ],
   "source": [
    "#Score as positive/negative -> 0/1\n",
    "def polarity(x):\n",
    "    if x == \"Positive\":\n",
    "        return 0\n",
    "    else:\n",
    "        return 1\n",
    "df[\"Score\"] = df[\"Score\"].map(polarity) #Map all the scores as the function polarity i.e. positive or negative\n",
    "df.head()"
   ]
  },
  {
   "cell_type": "code",
   "execution_count": 8,
   "metadata": {},
   "outputs": [
    {
     "data": {
      "text/html": [
       "<div>\n",
       "<style>\n",
       "    .dataframe thead tr:only-child th {\n",
       "        text-align: right;\n",
       "    }\n",
       "\n",
       "    .dataframe thead th {\n",
       "        text-align: left;\n",
       "    }\n",
       "\n",
       "    .dataframe tbody tr th {\n",
       "        vertical-align: top;\n",
       "    }\n",
       "</style>\n",
       "<table border=\"1\" class=\"dataframe\">\n",
       "  <thead>\n",
       "    <tr style=\"text-align: right;\">\n",
       "      <th></th>\n",
       "      <th>index</th>\n",
       "      <th>Id</th>\n",
       "      <th>ProductId</th>\n",
       "      <th>UserId</th>\n",
       "      <th>ProfileName</th>\n",
       "      <th>HelpfulnessNumerator</th>\n",
       "      <th>HelpfulnessDenominator</th>\n",
       "      <th>Score</th>\n",
       "      <th>Time</th>\n",
       "      <th>Summary</th>\n",
       "      <th>Text</th>\n",
       "      <th>CleanedText</th>\n",
       "      <th>CleanedText_NoStem</th>\n",
       "    </tr>\n",
       "  </thead>\n",
       "  <tbody>\n",
       "    <tr>\n",
       "      <th>169328</th>\n",
       "      <td>212519</td>\n",
       "      <td>230334</td>\n",
       "      <td>B00004RYGX</td>\n",
       "      <td>A1GB1Q193DNFGR</td>\n",
       "      <td>Bruce Lee Pullen</td>\n",
       "      <td>5</td>\n",
       "      <td>5</td>\n",
       "      <td>0</td>\n",
       "      <td>970531200</td>\n",
       "      <td>Fabulous Comedic Fanasy Directed by a Master</td>\n",
       "      <td>Beetlejuice is an awe-inspiring wonderfully am...</td>\n",
       "      <td>b'beetlejuic wonder amus comed romp explor inc...</td>\n",
       "      <td>b'beetlejuice wonderfully amusing comedic romp...</td>\n",
       "    </tr>\n",
       "    <tr>\n",
       "      <th>169304</th>\n",
       "      <td>212495</td>\n",
       "      <td>230309</td>\n",
       "      <td>B00004RYGX</td>\n",
       "      <td>A34NBH479RB0E</td>\n",
       "      <td>\"dmab6395\"</td>\n",
       "      <td>0</td>\n",
       "      <td>1</td>\n",
       "      <td>0</td>\n",
       "      <td>977184000</td>\n",
       "      <td>FUNNY</td>\n",
       "      <td>I THOUGHT THIS MOVIE WAS SO FUNNY, MICHAEL KEA...</td>\n",
       "      <td>b'thought movi funni michael keaton beetlejuic...</td>\n",
       "      <td>b'thought movie funny michael keaton beetlejui...</td>\n",
       "    </tr>\n",
       "    <tr>\n",
       "      <th>169340</th>\n",
       "      <td>212531</td>\n",
       "      <td>230346</td>\n",
       "      <td>B00004RYGX</td>\n",
       "      <td>A1ZH086GZYL5MZ</td>\n",
       "      <td>Doug DeBolt</td>\n",
       "      <td>2</td>\n",
       "      <td>2</td>\n",
       "      <td>0</td>\n",
       "      <td>1013385600</td>\n",
       "      <td>A little gross, a lot of fun</td>\n",
       "      <td>Michael Keaton was already on his way to being...</td>\n",
       "      <td>b'michael keaton alreadi way major star play g...</td>\n",
       "      <td>b'michael keaton already way major star played...</td>\n",
       "    </tr>\n",
       "    <tr>\n",
       "      <th>169256</th>\n",
       "      <td>212447</td>\n",
       "      <td>230258</td>\n",
       "      <td>B00004RYGX</td>\n",
       "      <td>AEPJYN0NAX9N4</td>\n",
       "      <td>Jody L. Schoth</td>\n",
       "      <td>0</td>\n",
       "      <td>0</td>\n",
       "      <td>0</td>\n",
       "      <td>1014163200</td>\n",
       "      <td>Excellent... Hilarious</td>\n",
       "      <td>Just hilarious... my favorite part is the dini...</td>\n",
       "      <td>b'hilari favorit part dine room scene sing dan...</td>\n",
       "      <td>b'hilarious favorite part dining room scene si...</td>\n",
       "    </tr>\n",
       "    <tr>\n",
       "      <th>169339</th>\n",
       "      <td>212530</td>\n",
       "      <td>230345</td>\n",
       "      <td>B00004RYGX</td>\n",
       "      <td>ADIDQRLLR4KBQ</td>\n",
       "      <td>\"paradise_found\"</td>\n",
       "      <td>2</td>\n",
       "      <td>2</td>\n",
       "      <td>0</td>\n",
       "      <td>1015545600</td>\n",
       "      <td>Because My Middle Name is &amp;quot;Weird&amp;quot;</td>\n",
       "      <td>Set in a small New England town, Tim Burton's ...</td>\n",
       "      <td>b'set small new england town tim burton master...</td>\n",
       "      <td>b'set small new england town tim burtons maste...</td>\n",
       "    </tr>\n",
       "    <tr>\n",
       "      <th>169255</th>\n",
       "      <td>212446</td>\n",
       "      <td>230257</td>\n",
       "      <td>B00004RYGX</td>\n",
       "      <td>A1OP3SQP78M1PP</td>\n",
       "      <td>James Gowen</td>\n",
       "      <td>0</td>\n",
       "      <td>0</td>\n",
       "      <td>0</td>\n",
       "      <td>1015718400</td>\n",
       "      <td>A movie to \"literally die for!!!\"</td>\n",
       "      <td>Beetlejuice is not a movie that you can't watc...</td>\n",
       "      <td>b'beetlejuic not movi cant watch time one funi...</td>\n",
       "      <td>b'beetlejuice not movie cant watch times one f...</td>\n",
       "    </tr>\n",
       "    <tr>\n",
       "      <th>117347</th>\n",
       "      <td>138014</td>\n",
       "      <td>149785</td>\n",
       "      <td>B00004S1C6</td>\n",
       "      <td>A1KZ8KEBD4FONY</td>\n",
       "      <td>W. Zientek-Sico</td>\n",
       "      <td>60</td>\n",
       "      <td>61</td>\n",
       "      <td>0</td>\n",
       "      <td>1035504000</td>\n",
       "      <td>Wonderful product gives professional results</td>\n",
       "      <td>The spectra paste food colors are simply fanta...</td>\n",
       "      <td>b'spectra past food color simpli fantast provi...</td>\n",
       "      <td>b'spectra paste food colors simply fantastic p...</td>\n",
       "    </tr>\n",
       "    <tr>\n",
       "      <th>169331</th>\n",
       "      <td>212522</td>\n",
       "      <td>230337</td>\n",
       "      <td>B00004RYGX</td>\n",
       "      <td>A1CAA94EOP0J2S</td>\n",
       "      <td>Travis J Smith</td>\n",
       "      <td>4</td>\n",
       "      <td>4</td>\n",
       "      <td>0</td>\n",
       "      <td>1036022400</td>\n",
       "      <td>Great Comedy</td>\n",
       "      <td>Beetlejuice is the story of ghosts (Alec Baldw...</td>\n",
       "      <td>b'beetlejuic stori ghost alec baldwin geena da...</td>\n",
       "      <td>b'beetlejuice story ghosts alec baldwin geena ...</td>\n",
       "    </tr>\n",
       "    <tr>\n",
       "      <th>161885</th>\n",
       "      <td>202469</td>\n",
       "      <td>219388</td>\n",
       "      <td>B00005IX98</td>\n",
       "      <td>A24IUOMVERXVEG</td>\n",
       "      <td>Rick \"rick_street\"</td>\n",
       "      <td>11</td>\n",
       "      <td>11</td>\n",
       "      <td>0</td>\n",
       "      <td>1036108800</td>\n",
       "      <td>Great Easy cup of Espresso</td>\n",
       "      <td>I've purchased both the Espressione Espresso (...</td>\n",
       "      <td>b'ive purchas espression espresso classic arab...</td>\n",
       "      <td>b'ive purchased espressione espresso classic a...</td>\n",
       "    </tr>\n",
       "    <tr>\n",
       "      <th>117266</th>\n",
       "      <td>137933</td>\n",
       "      <td>149701</td>\n",
       "      <td>B00006L2ZT</td>\n",
       "      <td>A2STZ646VQE8QI</td>\n",
       "      <td>anomalogue</td>\n",
       "      <td>1</td>\n",
       "      <td>3</td>\n",
       "      <td>0</td>\n",
       "      <td>1036540800</td>\n",
       "      <td>This is the best Camper Van Beethoven</td>\n",
       "      <td>This is a  beautiful repackaging of Camper Van...</td>\n",
       "      <td>b'beauti repackag camper van beethoven first t...</td>\n",
       "      <td>b'beautiful repackaging camper van beethovens ...</td>\n",
       "    </tr>\n",
       "  </tbody>\n",
       "</table>\n",
       "</div>"
      ],
      "text/plain": [
       "         index      Id   ProductId          UserId         ProfileName  \\\n",
       "169328  212519  230334  B00004RYGX  A1GB1Q193DNFGR    Bruce Lee Pullen   \n",
       "169304  212495  230309  B00004RYGX   A34NBH479RB0E          \"dmab6395\"   \n",
       "169340  212531  230346  B00004RYGX  A1ZH086GZYL5MZ         Doug DeBolt   \n",
       "169256  212447  230258  B00004RYGX   AEPJYN0NAX9N4      Jody L. Schoth   \n",
       "169339  212530  230345  B00004RYGX   ADIDQRLLR4KBQ    \"paradise_found\"   \n",
       "169255  212446  230257  B00004RYGX  A1OP3SQP78M1PP         James Gowen   \n",
       "117347  138014  149785  B00004S1C6  A1KZ8KEBD4FONY     W. Zientek-Sico   \n",
       "169331  212522  230337  B00004RYGX  A1CAA94EOP0J2S      Travis J Smith   \n",
       "161885  202469  219388  B00005IX98  A24IUOMVERXVEG  Rick \"rick_street\"   \n",
       "117266  137933  149701  B00006L2ZT  A2STZ646VQE8QI          anomalogue   \n",
       "\n",
       "        HelpfulnessNumerator  HelpfulnessDenominator  Score        Time  \\\n",
       "169328                     5                       5      0   970531200   \n",
       "169304                     0                       1      0   977184000   \n",
       "169340                     2                       2      0  1013385600   \n",
       "169256                     0                       0      0  1014163200   \n",
       "169339                     2                       2      0  1015545600   \n",
       "169255                     0                       0      0  1015718400   \n",
       "117347                    60                      61      0  1035504000   \n",
       "169331                     4                       4      0  1036022400   \n",
       "161885                    11                      11      0  1036108800   \n",
       "117266                     1                       3      0  1036540800   \n",
       "\n",
       "                                             Summary  \\\n",
       "169328  Fabulous Comedic Fanasy Directed by a Master   \n",
       "169304                                         FUNNY   \n",
       "169340                  A little gross, a lot of fun   \n",
       "169256                        Excellent... Hilarious   \n",
       "169339   Because My Middle Name is &quot;Weird&quot;   \n",
       "169255             A movie to \"literally die for!!!\"   \n",
       "117347  Wonderful product gives professional results   \n",
       "169331                                  Great Comedy   \n",
       "161885                    Great Easy cup of Espresso   \n",
       "117266         This is the best Camper Van Beethoven   \n",
       "\n",
       "                                                     Text  \\\n",
       "169328  Beetlejuice is an awe-inspiring wonderfully am...   \n",
       "169304  I THOUGHT THIS MOVIE WAS SO FUNNY, MICHAEL KEA...   \n",
       "169340  Michael Keaton was already on his way to being...   \n",
       "169256  Just hilarious... my favorite part is the dini...   \n",
       "169339  Set in a small New England town, Tim Burton's ...   \n",
       "169255  Beetlejuice is not a movie that you can't watc...   \n",
       "117347  The spectra paste food colors are simply fanta...   \n",
       "169331  Beetlejuice is the story of ghosts (Alec Baldw...   \n",
       "161885  I've purchased both the Espressione Espresso (...   \n",
       "117266  This is a  beautiful repackaging of Camper Van...   \n",
       "\n",
       "                                              CleanedText  \\\n",
       "169328  b'beetlejuic wonder amus comed romp explor inc...   \n",
       "169304  b'thought movi funni michael keaton beetlejuic...   \n",
       "169340  b'michael keaton alreadi way major star play g...   \n",
       "169256  b'hilari favorit part dine room scene sing dan...   \n",
       "169339  b'set small new england town tim burton master...   \n",
       "169255  b'beetlejuic not movi cant watch time one funi...   \n",
       "117347  b'spectra past food color simpli fantast provi...   \n",
       "169331  b'beetlejuic stori ghost alec baldwin geena da...   \n",
       "161885  b'ive purchas espression espresso classic arab...   \n",
       "117266  b'beauti repackag camper van beethoven first t...   \n",
       "\n",
       "                                       CleanedText_NoStem  \n",
       "169328  b'beetlejuice wonderfully amusing comedic romp...  \n",
       "169304  b'thought movie funny michael keaton beetlejui...  \n",
       "169340  b'michael keaton already way major star played...  \n",
       "169256  b'hilarious favorite part dining room scene si...  \n",
       "169339  b'set small new england town tim burtons maste...  \n",
       "169255  b'beetlejuice not movie cant watch times one f...  \n",
       "117347  b'spectra paste food colors simply fantastic p...  \n",
       "169331  b'beetlejuice story ghosts alec baldwin geena ...  \n",
       "161885  b'ive purchased espressione espresso classic a...  \n",
       "117266  b'beautiful repackaging camper van beethovens ...  "
      ]
     },
     "execution_count": 8,
     "metadata": {},
     "output_type": "execute_result"
    }
   ],
   "source": [
    "#Taking Sample Data\n",
    "n_samples = 50000\n",
    "df_sample = df.sample(n_samples)\n",
    "\n",
    "###Sorting as we want according to time series\n",
    "df_sample.sort_values('Time',inplace=True) \n",
    "df_sample.head(10)"
   ]
  },
  {
   "cell_type": "code",
   "execution_count": 9,
   "metadata": {},
   "outputs": [],
   "source": [
    "#Saving 50k samples in disk to as to test to test on the same sample for each of all Algo\n",
    "savetofile(df_sample,\"sample_dt\")"
   ]
  },
  {
   "cell_type": "code",
   "execution_count": 2,
   "metadata": {
    "scrolled": true
   },
   "outputs": [],
   "source": [
    "#Opening from samples from file\n",
    "df_sample = openfromfile(\"sample_dt\")"
   ]
  },
  {
   "cell_type": "markdown",
   "metadata": {},
   "source": [
    "# Decision Trees Model  using Different Featurization in NLP"
   ]
  },
  {
   "cell_type": "markdown",
   "metadata": {},
   "source": [
    "![alt text](https://image.slidesharecdn.com/decision-tree-final-170421102129/95/decision-tree-algorithm-analysis-machine-learning-algorithm-data-science-training-edureka-12-638.jpg?cb=1492771312)"
   ]
  },
  {
   "cell_type": "markdown",
   "metadata": {},
   "source": [
    "Here I have use GINI Impurity for building decision trees"
   ]
  },
  {
   "cell_type": "markdown",
   "metadata": {},
   "source": [
    "![img](https://chrisalbon.com/images/machine_learning_flashcards/Gini_Index_print.png)"
   ]
  },
  {
   "cell_type": "markdown",
   "metadata": {},
   "source": [
    "## Bag of Words (BoW)\n",
    "\n",
    "A commonly used model in methods of Text Classification. As part of the BOW model, a piece of text (sentence or a document) is represented as a bag or multiset of words, disregarding grammar and even word order and the frequency or occurrence of each word is used as a feature for training a classifier.<br>\n",
    "OR <br>\n",
    "Simply,Converting a collection of text documents to a matrix of token counts"
   ]
  },
  {
   "cell_type": "code",
   "execution_count": 3,
   "metadata": {},
   "outputs": [
    {
     "name": "stdout",
     "output_type": "stream",
     "text": [
      "Train Data Size:  (35000, 42258)\n",
      "Test Data Size:  (15000, 42258)\n"
     ]
    }
   ],
   "source": [
    "from sklearn.feature_extraction.text import CountVectorizer\n",
    "from sklearn.model_selection import train_test_split\n",
    "from sklearn import preprocessing\n",
    "\n",
    "#Breaking into Train and test\n",
    "X_train, X_test, y_train, y_test = train_test_split(df_sample['CleanedText'].values,df_sample['Score'].values,test_size=0.3,shuffle=False)\n",
    "\n",
    "#Text -> Uni gram Vectors\n",
    "uni_gram = CountVectorizer() \n",
    "X_train = uni_gram.fit_transform(X_train)\n",
    "#Normalize Data\n",
    "X_train = preprocessing.normalize(X_train)\n",
    "print(\"Train Data Size: \",X_train.shape)\n",
    "X_test = uni_gram.transform(X_test)\n",
    "#Normalize Data\n",
    "X_test = preprocessing.normalize(X_test)\n",
    "print(\"Test Data Size: \",X_test.shape)"
   ]
  },
  {
   "cell_type": "code",
   "execution_count": 21,
   "metadata": {
    "scrolled": false
   },
   "outputs": [
    {
     "name": "stdout",
     "output_type": "stream",
     "text": [
      "(3190, 42258) (3181, 42258)\n",
      "(6371, 42258) (3181, 42258)\n",
      "(9552, 42258) (3181, 42258)\n",
      "(12733, 42258) (3181, 42258)\n",
      "(15914, 42258) (3181, 42258)\n",
      "(19095, 42258) (3181, 42258)\n",
      "(22276, 42258) (3181, 42258)\n",
      "(25457, 42258) (3181, 42258)\n",
      "(28638, 42258) (3181, 42258)\n",
      "(31819, 42258) (3181, 42258)\n"
     ]
    }
   ],
   "source": [
    "from sklearn.model_selection import TimeSeriesSplit\n",
    "tscv = TimeSeriesSplit(n_splits=10)\n",
    "for train, cv in tscv.split(X_train):\n",
    "#     print(\"%s %s\" % (train, cv))\n",
    "    print(X_train[train].shape, X_train[cv].shape)"
   ]
  },
  {
   "cell_type": "markdown",
   "metadata": {},
   "source": [
    "![i](https://i.stack.imgur.com/fXZ6k.png)"
   ]
  },
  {
   "cell_type": "markdown",
   "metadata": {},
   "source": [
    "### Finding the best 'max_depth' using Forward Chaining Cross Validation or Time Series CV "
   ]
  },
  {
   "cell_type": "code",
   "execution_count": 22,
   "metadata": {
    "scrolled": true
   },
   "outputs": [
    {
     "name": "stdout",
     "output_type": "stream",
     "text": [
      "CPU times: user 0 ns, sys: 0 ns, total: 0 ns\n",
      "Wall time: 8.11 µs\n",
      "Fitting 10 folds for each of 30 candidates, totalling 300 fits\n"
     ]
    },
    {
     "name": "stderr",
     "output_type": "stream",
     "text": [
      "[Parallel(n_jobs=1)]: Done 300 out of 300 | elapsed: 41.4min finished\n"
     ]
    },
    {
     "name": "stdout",
     "output_type": "stream",
     "text": [
      "Best HyperParameter:  {'max_depth': 291}\n",
      "Best Accuracy: 42.23%\n"
     ]
    }
   ],
   "source": [
    "%time\n",
    "from sklearn.model_selection import TimeSeriesSplit\n",
    "from sklearn.model_selection import GridSearchCV\n",
    "from sklearn.tree import DecisionTreeClassifier\n",
    "from scipy.stats import randint as sp_randint\n",
    "\n",
    "g = sp_randint(2,300)\n",
    "clf = DecisionTreeClassifier()\n",
    "param_grid = {'max_depth':sorted(g.rvs(30))} #params we need to try on classifier\n",
    "tscv = TimeSeriesSplit(n_splits=10) #For time based splitting\n",
    "gsv = GridSearchCV(clf,param_grid,cv=tscv,verbose=1,scoring='f1')\n",
    "gsv.fit(X_train,y_train)\n",
    "savetofile(gsv,\"Decision Trees/gsv_uni\")\n",
    "print(\"Best HyperParameter: \",gsv.best_params_)\n",
    "print(\"Best Accuracy: %.2f%%\"%(gsv.best_score_*100))"
   ]
  },
  {
   "cell_type": "markdown",
   "metadata": {},
   "source": [
    "<b>Note: Not ideal to run Decision Trees on data with such huge features as it will take very long hours to train hence taking only 300 as max depth<b>"
   ]
  },
  {
   "cell_type": "code",
   "execution_count": 60,
   "metadata": {},
   "outputs": [
    {
     "data": {
      "image/png": "[encoded data removed]",
      "text/plain": [
       "<matplotlib.figure.Figure at 0x3fff0afb8828>"
      ]
     },
     "metadata": {},
     "output_type": "display_data"
    }
   ],
   "source": [
    "gsv = openfromfile(\"Decision Trees/gsv_uni\")\n",
    "x=[]\n",
    "y=[]\n",
    "for a in gsv.grid_scores_:\n",
    "    x.append(a[0]['max_depth']) \n",
    "    y.append(a[1])\n",
    "plt.xlim(-10,300)\n",
    "plt.ylim(0.2,0.5)\n",
    "plt.xlabel(r\"max depth\",fontsize=15)\n",
    "plt.ylabel(\"f1-score\")\n",
    "plt.title(r'F1 Score v/s Max Depth')\n",
    "plt.plot(x,y)\n",
    "plt.show()"
   ]
  },
  {
   "cell_type": "code",
   "execution_count": 5,
   "metadata": {},
   "outputs": [
    {
     "name": "stdout",
     "output_type": "stream",
     "text": [
      "Accuracy on test set: 83.447%\n",
      "Precision on test set: 0.516\n",
      "Recall on test set: 0.455\n",
      "F1-Score on test set: 0.483\n",
      "Confusion Matrix of test set:\n",
      " [ [TN  FP]\n",
      " [FN TP] ]\n",
      "\n"
     ]
    },
    {
     "data": {
      "text/plain": [
       "<matplotlib.axes._subplots.AxesSubplot at 0x3fff1dcb2550>"
      ]
     },
     "execution_count": 5,
     "metadata": {},
     "output_type": "execute_result"
    },
    {
     "data": {
      "image/png": "[encoded data removed]",
      "text/plain": [
       "<matplotlib.figure.Figure at 0x3fff7b2de2b0>"
      ]
     },
     "metadata": {},
     "output_type": "display_data"
    }
   ],
   "source": [
    "#Testing Accuracy on Test data\n",
    "from sklearn.tree import DecisionTreeClassifier\n",
    "\n",
    "clf = DecisionTreeClassifier(max_depth=291)\n",
    "clf.fit(X_train,y_train)\n",
    "y_pred = clf.predict(X_test)\n",
    "print(\"Accuracy on test set: %0.3f%%\"%(accuracy_score(y_test, y_pred)*100))\n",
    "print(\"Precision on test set: %0.3f\"%(precision_score(y_test, y_pred)))\n",
    "print(\"Recall on test set: %0.3f\"%(recall_score(y_test, y_pred)))\n",
    "print(\"F1-Score on test set: %0.3f\"%(f1_score(y_test, y_pred)))\n",
    "print(\"Confusion Matrix of test set:\\n [ [TN  FP]\\n [FN TP] ]\\n\")\n",
    "df_cm = pd.DataFrame(confusion_matrix(y_test, y_pred), range(2),range(2))\n",
    "sns.set(font_scale=1.4)#for label size\n",
    "sns.heatmap(df_cm, annot=True,annot_kws={\"size\": 16}, fmt='g')"
   ]
  },
  {
   "cell_type": "markdown",
   "metadata": {},
   "source": [
    "![alt](https://chrisalbon.com/images/machine_learning_flashcards/Feature_Importance_print.png)"
   ]
  },
  {
   "cell_type": "markdown",
   "metadata": {},
   "source": [
    "### Top 25 most important features"
   ]
  },
  {
   "cell_type": "code",
   "execution_count": 15,
   "metadata": {},
   "outputs": [
    {
     "data": {
      "image/png": "[encoded data removed]",
      "text/plain": [
       "<matplotlib.figure.Figure at 0x3fff135105f8>"
      ]
     },
     "metadata": {},
     "output_type": "display_data"
    }
   ],
   "source": [
    "# Calculate feature importances from decision trees\n",
    "importances = clf.feature_importances_\n",
    "\n",
    "# Sort feature importances in descending order\n",
    "indices = np.argsort(importances)[::-1][:25]\n",
    "\n",
    "# Rearrange feature names so they match the sorted feature importances\n",
    "names = uni_gram.get_feature_names()\n",
    "\n",
    "sns.set(rc={'figure.figsize':(11.7,8.27)})\n",
    "\n",
    "# Create plot\n",
    "plt.figure()\n",
    "\n",
    "# Create plot title\n",
    "plt.title(\"Feature Importance\")\n",
    "\n",
    "# Add bars\n",
    "plt.bar(range(25), importances[indices])\n",
    "\n",
    "# Add feature names as x-axis labels\n",
    "names = np.array(names)\n",
    "plt.xticks(range(25), names[indices], rotation=90)\n",
    "\n",
    "# Show plot\n",
    "plt.show()\n",
    "# uni_gram.get_feature_names()"
   ]
  },
  {
   "cell_type": "markdown",
   "metadata": {},
   "source": [
    "### bi-gram"
   ]
  },
  {
   "cell_type": "code",
   "execution_count": 16,
   "metadata": {},
   "outputs": [
    {
     "name": "stdout",
     "output_type": "stream",
     "text": [
      "Train Data Size:  (35000, 637926)\n",
      "Test Data Size:  (15000, 637926)\n"
     ]
    }
   ],
   "source": [
    "from sklearn.feature_extraction.text import CountVectorizer\n",
    "from sklearn.model_selection import train_test_split\n",
    "from sklearn import preprocessing\n",
    "\n",
    "#Breaking into Train and test\n",
    "X_train, X_test, y_train, y_test = train_test_split(df_sample['CleanedText'].values,df_sample['Score'].values,test_size=0.3,shuffle=False)\n",
    "\n",
    "#taking one words and two consecutive words together\n",
    "bi_gram = CountVectorizer(ngram_range=(1,2)) \n",
    "X_train = bi_gram.fit_transform(X_train)\n",
    "#Normalize Data\n",
    "X_train = preprocessing.normalize(X_train)\n",
    "print(\"Train Data Size: \",X_train.shape)\n",
    "X_test = bi_gram.transform(X_test)\n",
    "#Normalize Data\n",
    "X_test = preprocessing.normalize(X_test)\n",
    "print(\"Test Data Size: \",X_test.shape)"
   ]
  },
  {
   "cell_type": "code",
   "execution_count": 25,
   "metadata": {},
   "outputs": [
    {
     "name": "stdout",
     "output_type": "stream",
     "text": [
      "CPU times: user 0 ns, sys: 0 ns, total: 0 ns\n",
      "Wall time: 8.58 µs\n",
      "Fitting 10 folds for each of 30 candidates, totalling 300 fits\n"
     ]
    },
    {
     "name": "stderr",
     "output_type": "stream",
     "text": [
      "[Parallel(n_jobs=1)]: Done 300 out of 300 | elapsed: 201.8min finished\n"
     ]
    },
    {
     "name": "stdout",
     "output_type": "stream",
     "text": [
      "Best HyperParameter:  {'max_depth': 73}\n",
      "Best Accuracy: 46.25%\n"
     ]
    }
   ],
   "source": [
    "%time\n",
    "from sklearn.model_selection import TimeSeriesSplit\n",
    "from sklearn.model_selection import GridSearchCV\n",
    "from sklearn.tree import DecisionTreeClassifier\n",
    "from scipy.stats import randint as sp_randint\n",
    "\n",
    "g = sp_randint(2,300)\n",
    "clf = DecisionTreeClassifier()\n",
    "param_grid = {'max_depth':sorted(g.rvs(30))} #params we need to try on classifier\n",
    "tscv = TimeSeriesSplit(n_splits=10) #For time based splitting\n",
    "gsv = GridSearchCV(clf,param_grid,cv=tscv,verbose=1,scoring='f1')\n",
    "gsv.fit(X_train,y_train)\n",
    "savetofile(gsv,\"Decision Trees/gsv_bi\")\n",
    "print(\"Best HyperParameter: \",gsv.best_params_)\n",
    "print(\"Best Accuracy: %.2f%%\"%(gsv.best_score_*100))"
   ]
  },
  {
   "cell_type": "markdown",
   "metadata": {},
   "source": [
    "<b>Note: Not ideal to run Decision Trees on data with such huge features as it will take very long hours to train hence taking only 300 as max depth<b>"
   ]
  },
  {
   "cell_type": "code",
   "execution_count": 59,
   "metadata": {},
   "outputs": [
    {
     "data": {
      "image/png": "[encoded data removed]",
      "text/plain": [
       "<matplotlib.figure.Figure at 0x3fff05362d68>"
      ]
     },
     "metadata": {},
     "output_type": "display_data"
    }
   ],
   "source": [
    "gsv = openfromfile(\"Decision Trees/gsv_bi\")\n",
    "x=[]\n",
    "y=[]\n",
    "for a in gsv.grid_scores_:\n",
    "    x.append(a[0]['max_depth']) \n",
    "    y.append(a[1])\n",
    "plt.xlim(0,300)\n",
    "plt.ylim(0.35,0.5)\n",
    "plt.xlabel(r\"max depth\",fontsize=15)\n",
    "plt.ylabel(\"f1-score\")\n",
    "plt.title(r'F1 Score v/s Max Depth')\n",
    "plt.plot(x,y)\n",
    "plt.show()"
   ]
  },
  {
   "cell_type": "code",
   "execution_count": 17,
   "metadata": {},
   "outputs": [
    {
     "name": "stdout",
     "output_type": "stream",
     "text": [
      "Accuracy on test set: 85.120%\n",
      "Precision on test set: 0.578\n",
      "Recall on test set: 0.467\n",
      "F1-Score on test set: 0.517\n",
      "Confusion Matrix of test set:\n",
      " [ [TN  FP]\n",
      " [FN TP] ]\n",
      "\n"
     ]
    },
    {
     "data": {
      "text/plain": [
       "<matplotlib.axes._subplots.AxesSubplot at 0x3fff0ea259e8>"
      ]
     },
     "execution_count": 17,
     "metadata": {},
     "output_type": "execute_result"
    },
    {
     "data": {
      "image/png": "[encoded data removed]",
      "text/plain": [
       "<matplotlib.figure.Figure at 0x3fff0ea255c0>"
      ]
     },
     "metadata": {},
     "output_type": "display_data"
    }
   ],
   "source": [
    "#Testing Accuracy on Test data\n",
    "from sklearn.tree import DecisionTreeClassifier\n",
    "\n",
    "clf = DecisionTreeClassifier(max_depth=73)\n",
    "clf.fit(X_train,y_train)\n",
    "y_pred = clf.predict(X_test)\n",
    "print(\"Accuracy on test set: %0.3f%%\"%(accuracy_score(y_test, y_pred)*100))\n",
    "print(\"Precision on test set: %0.3f\"%(precision_score(y_test, y_pred)))\n",
    "print(\"Recall on test set: %0.3f\"%(recall_score(y_test, y_pred)))\n",
    "print(\"F1-Score on test set: %0.3f\"%(f1_score(y_test, y_pred)))\n",
    "print(\"Confusion Matrix of test set:\\n [ [TN  FP]\\n [FN TP] ]\\n\")\n",
    "df_cm = pd.DataFrame(confusion_matrix(y_test, y_pred), range(2),range(2))\n",
    "sns.set(font_scale=1.4)#for label size\n",
    "sns.heatmap(df_cm, annot=True,annot_kws={\"size\": 16}, fmt='g')"
   ]
  },
  {
   "cell_type": "markdown",
   "metadata": {},
   "source": [
    "### Top 25 most important features"
   ]
  },
  {
   "cell_type": "code",
   "execution_count": 19,
   "metadata": {},
   "outputs": [
    {
     "data": {
      "image/png": "[encoded data removed]",
      "text/plain": [
       "<matplotlib.figure.Figure at 0x3fff133d9cc0>"
      ]
     },
     "metadata": {},
     "output_type": "display_data"
    }
   ],
   "source": [
    "# Calculate feature importances from decision trees\n",
    "importances = clf.feature_importances_\n",
    "\n",
    "# Sort feature importances in descending order\n",
    "indices = np.argsort(importances)[::-1][:25]\n",
    "\n",
    "# Rearrange feature names so they match the sorted feature importances\n",
    "names = bi_gram.get_feature_names()\n",
    "\n",
    "sns.set(rc={'figure.figsize':(11.7,8.27)})\n",
    "\n",
    "# Create plot\n",
    "plt.figure()\n",
    "\n",
    "# Create plot title\n",
    "plt.title(\"Feature Importance\")\n",
    "\n",
    "# Add bars\n",
    "plt.bar(range(25), importances[indices])\n",
    "\n",
    "# Add feature names as x-axis labels\n",
    "names = np.array(names)\n",
    "plt.xticks(range(25), names[indices], rotation=90)\n",
    "\n",
    "# Show plot\n",
    "plt.show()\n",
    "# uni_gram.get_feature_names()"
   ]
  },
  {
   "cell_type": "markdown",
   "metadata": {},
   "source": [
    "# tf-idf\n"
   ]
  },
  {
   "cell_type": "markdown",
   "metadata": {},
   "source": [
    "![alt text](https://s3-ap-south-1.amazonaws.com/av-blog-media/wp-content/uploads/2017/01/11181616/image-4.png)"
   ]
  },
  {
   "cell_type": "code",
   "execution_count": 20,
   "metadata": {},
   "outputs": [
    {
     "name": "stdout",
     "output_type": "stream",
     "text": [
      "Train Data Size:  (35000, 637926)\n",
      "Test Data Size:  (15000, 637926)\n",
      "CPU times: user 7.73 s, sys: 36 ms, total: 7.76 s\n",
      "Wall time: 7.77 s\n"
     ]
    }
   ],
   "source": [
    "%%time\n",
    "from sklearn.feature_extraction.text import TfidfVectorizer\n",
    "from sklearn.model_selection import train_test_split\n",
    "from sklearn import preprocessing\n",
    "\n",
    "#Breaking into Train and test\n",
    "X_train, X_test, y_train, y_test = train_test_split(df_sample['CleanedText'].values,df_sample['Score'].values,test_size=0.3,shuffle=False)\n",
    "\n",
    "tfidf = TfidfVectorizer(ngram_range=(1,2)) #Using bi-grams\n",
    "X_train = tfidf.fit_transform(X_train)\n",
    "#Normalize Data\n",
    "X_train = preprocessing.normalize(X_train)\n",
    "print(\"Train Data Size: \",X_train.shape)\n",
    "X_test = tfidf.transform(X_test)\n",
    "#Normalize Data\n",
    "X_test = preprocessing.normalize(X_test)\n",
    "print(\"Test Data Size: \",X_test.shape)"
   ]
  },
  {
   "cell_type": "code",
   "execution_count": 28,
   "metadata": {},
   "outputs": [
    {
     "name": "stdout",
     "output_type": "stream",
     "text": [
      "CPU times: user 0 ns, sys: 0 ns, total: 0 ns\n",
      "Wall time: 8.11 µs\n",
      "Fitting 10 folds for each of 30 candidates, totalling 300 fits\n"
     ]
    },
    {
     "name": "stderr",
     "output_type": "stream",
     "text": [
      "[Parallel(n_jobs=1)]: Done 300 out of 300 | elapsed: 207.1min finished\n"
     ]
    },
    {
     "name": "stdout",
     "output_type": "stream",
     "text": [
      "Best HyperParameter:  {'max_depth': 231}\n",
      "Best Accuracy: 46.51%\n"
     ]
    }
   ],
   "source": [
    "%time\n",
    "from sklearn.model_selection import TimeSeriesSplit\n",
    "from sklearn.model_selection import GridSearchCV\n",
    "from sklearn.tree import DecisionTreeClassifier\n",
    "from scipy.stats import randint as sp_randint\n",
    "\n",
    "g = sp_randint(2,300)\n",
    "clf = DecisionTreeClassifier()\n",
    "param_grid = {'max_depth':sorted(g.rvs(30))} #params we need to try on classifier\n",
    "tscv = TimeSeriesSplit(n_splits=10) #For time based splitting\n",
    "gsv = GridSearchCV(clf,param_grid,cv=tscv,verbose=1,scoring='f1')\n",
    "gsv.fit(X_train,y_train)\n",
    "savetofile(gsv,\"Decision Trees/gsv_tfidf\")\n",
    "print(\"Best HyperParameter: \",gsv.best_params_)\n",
    "print(\"Best Accuracy: %.2f%%\"%(gsv.best_score_*100))"
   ]
  },
  {
   "cell_type": "markdown",
   "metadata": {},
   "source": [
    "<b>Note: Not ideal to run Decision Trees on data with such huge features as it will take very long hours to train hence taking only 300 as max depth<b>"
   ]
  },
  {
   "cell_type": "code",
   "execution_count": 58,
   "metadata": {},
   "outputs": [
    {
     "data": {
      "image/png": "[encoded data removed]",
      "text/plain": [
       "<matplotlib.figure.Figure at 0x3ffdded11cf8>"
      ]
     },
     "metadata": {},
     "output_type": "display_data"
    }
   ],
   "source": [
    "gsv = openfromfile(\"Decision Trees/gsv_tfidf\")\n",
    "x=[]\n",
    "y=[]\n",
    "for a in gsv.grid_scores_:\n",
    "    x.append(a[0]['max_depth']) \n",
    "    y.append(a[1])\n",
    "plt.xlim(0,300)\n",
    "plt.ylim(0.35,0.5)\n",
    "plt.xlabel(r\"max depth\",fontsize=15)\n",
    "plt.ylabel(\"f1-score\")\n",
    "plt.title(r'F1 Score v/s Max Depth')\n",
    "plt.plot(x,y)\n",
    "plt.show()"
   ]
  },
  {
   "cell_type": "code",
   "execution_count": 21,
   "metadata": {
    "scrolled": true
   },
   "outputs": [
    {
     "name": "stdout",
     "output_type": "stream",
     "text": [
      "Accuracy on test set: 84.427%\n",
      "Precision on test set: 0.545\n",
      "Recall on test set: 0.515\n",
      "F1-Score on test set: 0.530\n",
      "Confusion Matrix of test set:\n",
      " [ [TN  FP]\n",
      " [FN TP] ]\n",
      "\n"
     ]
    },
    {
     "data": {
      "text/plain": [
       "<matplotlib.axes._subplots.AxesSubplot at 0x3ffefd3b8f28>"
      ]
     },
     "execution_count": 21,
     "metadata": {},
     "output_type": "execute_result"
    },
    {
     "data": {
      "image/png": "[encoded data removed]",
      "text/plain": [
       "<matplotlib.figure.Figure at 0x3ffefd3b8898>"
      ]
     },
     "metadata": {},
     "output_type": "display_data"
    }
   ],
   "source": [
    "#Testing Accuracy on Test data\n",
    "from sklearn.tree import DecisionTreeClassifier\n",
    "\n",
    "clf = DecisionTreeClassifier(max_depth=231)\n",
    "clf.fit(X_train,y_train)\n",
    "y_pred = clf.predict(X_test)\n",
    "print(\"Accuracy on test set: %0.3f%%\"%(accuracy_score(y_test, y_pred)*100))\n",
    "print(\"Precision on test set: %0.3f\"%(precision_score(y_test, y_pred)))\n",
    "print(\"Recall on test set: %0.3f\"%(recall_score(y_test, y_pred)))\n",
    "print(\"F1-Score on test set: %0.3f\"%(f1_score(y_test, y_pred)))\n",
    "print(\"Confusion Matrix of test set:\\n [ [TN  FP]\\n [FN TP] ]\\n\")\n",
    "df_cm = pd.DataFrame(confusion_matrix(y_test, y_pred), range(2),range(2))\n",
    "sns.set(font_scale=1.4)#for label size\n",
    "sns.heatmap(df_cm, annot=True,annot_kws={\"size\": 16}, fmt='g')"
   ]
  },
  {
   "cell_type": "markdown",
   "metadata": {},
   "source": [
    "### Top 25 most important features"
   ]
  },
  {
   "cell_type": "code",
   "execution_count": 22,
   "metadata": {},
   "outputs": [
    {
     "data": {
      "image/png": "[encoded data removed]",
      "text/plain": [
       "<matplotlib.figure.Figure at 0x3fff0e90c0f0>"
      ]
     },
     "metadata": {},
     "output_type": "display_data"
    }
   ],
   "source": [
    "# Calculate feature importances from decision trees\n",
    "importances = clf.feature_importances_\n",
    "\n",
    "# Sort feature importances in descending order\n",
    "indices = np.argsort(importances)[::-1][:25]\n",
    "\n",
    "# Rearrange feature names so they match the sorted feature importances\n",
    "names = tfidf.get_feature_names()\n",
    "\n",
    "sns.set(rc={'figure.figsize':(11.7,8.27)})\n",
    "\n",
    "# Create plot\n",
    "plt.figure()\n",
    "\n",
    "# Create plot title\n",
    "plt.title(\"Feature Importance\")\n",
    "\n",
    "# Add bars\n",
    "plt.bar(range(25), importances[indices])\n",
    "\n",
    "# Add feature names as x-axis labels\n",
    "names = np.array(names)\n",
    "plt.xticks(range(25), names[indices], rotation=90)\n",
    "\n",
    "# Show plot\n",
    "plt.show()\n",
    "# uni_gram.get_feature_names()"
   ]
  },
  {
   "cell_type": "markdown",
   "metadata": {},
   "source": [
    "## Gensim\n",
    "Gensim is a robust open-source vector space modeling and topic modeling toolkit implemented in Python. It uses NumPy, SciPy and optionally Cython for performance. Gensim is specifically designed to handle large text collections, using data streaming and efficient incremental algorithms, which differentiates it from most other scientific software packages that only target batch and in-memory processing."
   ]
  },
  {
   "cell_type": "markdown",
   "metadata": {},
   "source": [
    "## Word2Vec\n",
    "[Refer Docs] :https://radimrehurek.com/gensim/models/word2vec.html "
   ]
  },
  {
   "cell_type": "code",
   "execution_count": 6,
   "metadata": {
    "scrolled": true
   },
   "outputs": [],
   "source": [
    "from gensim.models import KeyedVectors\n",
    "\n",
    "#Loading the model from file in the disk\n",
    "w2vec_model = KeyedVectors.load_word2vec_format('GoogleNews-vectors-negative300.bin', binary=True) "
   ]
  },
  {
   "cell_type": "code",
   "execution_count": 7,
   "metadata": {
    "scrolled": true
   },
   "outputs": [
    {
     "data": {
      "text/plain": [
       "3000000"
      ]
     },
     "execution_count": 7,
     "metadata": {},
     "output_type": "execute_result"
    }
   ],
   "source": [
    "w2v_vocub = w2vec_model.wv.vocab\n",
    "len(w2v_vocub)"
   ]
  },
  {
   "cell_type": "markdown",
   "metadata": {},
   "source": [
    "## Avg Word2Vec\n",
    "* One of the most naive but good ways to convert a sentence into a vector\n",
    "* Convert all the words to vectors and then just take the avg of the vectors the resulting vector represent the sentence "
   ]
  },
  {
   "cell_type": "code",
   "execution_count": 66,
   "metadata": {},
   "outputs": [
    {
     "name": "stdout",
     "output_type": "stream",
     "text": [
      "CPU times: user 24.1 s, sys: 56 ms, total: 24.2 s\n",
      "Wall time: 24.2 s\n"
     ]
    }
   ],
   "source": [
    "%%time\n",
    "avg_vec_google = [] #List to store all the avg w2vec's \n",
    "# no_datapoints = 364170\n",
    "# sample_cols = random.sample(range(1, no_datapoints), 20001)\n",
    "for sent in df_sample['CleanedText_NoStem']:\n",
    "    cnt = 0 #to count no of words in each reviews\n",
    "    sent_vec = np.zeros(300) #Initializing with zeroes\n",
    "#     print(\"sent:\",sent) \n",
    "    sent = sent.decode(\"utf-8\") \n",
    "    for word in sent.split():\n",
    "        try:\n",
    "#             print(word)\n",
    "            wvec = w2vec_model.wv[word] #Vector of each using w2v model\n",
    "#             print(\"wvec:\",wvec)\n",
    "            sent_vec += wvec #Adding the vectors\n",
    "#             print(\"sent_vec:\",sent_vec)\n",
    "            cnt += 1\n",
    "        except: \n",
    "            pass #When the word is not in the dictionary then do nothing  \n",
    "#     print(sent_vec)\n",
    "    sent_vec /= cnt #Taking average of vectors sum of the particular review\n",
    "#     print(\"avg_vec:\",sent_vec)\n",
    "    avg_vec_google.append(sent_vec) #Storing the avg w2vec's for each review\n",
    "#     print(\"*******************************************************************\")\n",
    "# print(avg_vec_google)\n",
    "avg_vec_google = np.array(avg_vec_google)"
   ]
  },
  {
   "cell_type": "code",
   "execution_count": 67,
   "metadata": {},
   "outputs": [
    {
     "data": {
      "text/plain": [
       "False"
      ]
     },
     "execution_count": 67,
     "metadata": {},
     "output_type": "execute_result"
    }
   ],
   "source": [
    "np.isnan(avg_vec_google).any()"
   ]
  },
  {
   "cell_type": "code",
   "execution_count": 68,
   "metadata": {},
   "outputs": [
    {
     "name": "stdout",
     "output_type": "stream",
     "text": [
      "(50000, 300)\n",
      "(50000,)\n"
     ]
    }
   ],
   "source": [
    "mask = ~np.any(np.isnan(avg_vec_google), axis=1)\n",
    "# print(mask)\n",
    "avg_vec_google_new = avg_vec_google[mask]\n",
    "df_sample_new = df_sample['Score'][mask]\n",
    "print(avg_vec_google_new.shape)\n",
    "print(df_sample_new.shape)"
   ]
  },
  {
   "cell_type": "code",
   "execution_count": 69,
   "metadata": {},
   "outputs": [],
   "source": [
    "from sklearn import preprocessing\n",
    "from sklearn.model_selection import train_test_split\n",
    "\n",
    "avg_vec_norm = preprocessing.normalize(avg_vec_google_new)\n",
    "\n",
    "#Not shuffling the data as we want it on time basis\n",
    "X_train, X_test, y_train, y_test = train_test_split(avg_vec_norm,df_sample_new.values,test_size=0.3,shuffle=False)"
   ]
  },
  {
   "cell_type": "code",
   "execution_count": 13,
   "metadata": {
    "scrolled": false
   },
   "outputs": [
    {
     "name": "stdout",
     "output_type": "stream",
     "text": [
      "CPU times: user 0 ns, sys: 0 ns, total: 0 ns\n",
      "Wall time: 8.34 µs\n",
      "Fitting 10 folds for each of 30 candidates, totalling 300 fits\n"
     ]
    },
    {
     "name": "stderr",
     "output_type": "stream",
     "text": [
      "[Parallel(n_jobs=1)]: Done 300 out of 300 | elapsed: 93.9min finished\n"
     ]
    },
    {
     "name": "stdout",
     "output_type": "stream",
     "text": [
      "Best HyperParameter:  {'max_depth': 20}\n",
      "Best Accuracy: 31.83%\n"
     ]
    }
   ],
   "source": [
    "%time\n",
    "from sklearn.model_selection import TimeSeriesSplit\n",
    "from sklearn.model_selection import GridSearchCV\n",
    "from sklearn.tree import DecisionTreeClassifier\n",
    "from scipy.stats import randint as sp_randint\n",
    "\n",
    "g = sp_randint(2,300)\n",
    "clf = DecisionTreeClassifier()\n",
    "param_grid = {'max_depth':sorted(g.rvs(30))} #params we need to try on classifier\n",
    "tscv = TimeSeriesSplit(n_splits=10) #For time based splitting\n",
    "gsv = GridSearchCV(clf,param_grid,cv=tscv,verbose=1,scoring='f1')\n",
    "gsv.fit(X_train,y_train)\n",
    "savetofile(gsv,\"Decision Trees/gsv_aw2v\")\n",
    "print(\"Best HyperParameter: \",gsv.best_params_)\n",
    "print(\"Best Accuracy: %.2f%%\"%(gsv.best_score_*100))"
   ]
  },
  {
   "cell_type": "code",
   "execution_count": 65,
   "metadata": {},
   "outputs": [
    {
     "data": {
      "image/png": "[encoded data removed]",
      "text/plain": [
       "<matplotlib.figure.Figure at 0x3fff0b0d79e8>"
      ]
     },
     "metadata": {},
     "output_type": "display_data"
    }
   ],
   "source": [
    "gsv = openfromfile(\"Decision Trees/gsv_aw2v\")\n",
    "x=[]\n",
    "y=[]\n",
    "for a in gsv.grid_scores_:\n",
    "    x.append(a[0]['max_depth']) \n",
    "    y.append(a[1])\n",
    "plt.xlim(0,300)\n",
    "plt.ylim(0.2,0.4)\n",
    "plt.xlabel(r\"max depth\",fontsize=15)\n",
    "plt.ylabel(\"f1-score\")\n",
    "plt.title(r'F1 Score v/s Max Depth')\n",
    "plt.plot(x,y)\n",
    "plt.show()"
   ]
  },
  {
   "cell_type": "code",
   "execution_count": 71,
   "metadata": {
    "scrolled": true
   },
   "outputs": [
    {
     "name": "stdout",
     "output_type": "stream",
     "text": [
      "Accuracy on test set: 79.380%\n",
      "Precision on test set: 0.380\n",
      "Recall on test set: 0.333\n",
      "F1-Score on test set: 0.355\n",
      "Confusion Matrix of test set:\n",
      " [ [TN  FP]\n",
      " [FN TP] ]\n",
      "\n"
     ]
    },
    {
     "data": {
      "text/plain": [
       "<matplotlib.axes._subplots.AxesSubplot at 0x3fff115dcd30>"
      ]
     },
     "execution_count": 71,
     "metadata": {},
     "output_type": "execute_result"
    },
    {
     "data": {
      "image/png": "[encoded data removed]",
      "text/plain": [
       "<matplotlib.figure.Figure at 0x3fff1247fac8>"
      ]
     },
     "metadata": {},
     "output_type": "display_data"
    }
   ],
   "source": [
    "#Testing Accuracy on Test data\n",
    "from sklearn.tree import DecisionTreeClassifier\n",
    "\n",
    "clf = DecisionTreeClassifier(max_depth=20)\n",
    "clf.fit(X_train,y_train)\n",
    "y_pred = clf.predict(X_test)\n",
    "print(\"Accuracy on test set: %0.3f%%\"%(accuracy_score(y_test, y_pred)*100))\n",
    "print(\"Precision on test set: %0.3f\"%(precision_score(y_test, y_pred)))\n",
    "print(\"Recall on test set: %0.3f\"%(recall_score(y_test, y_pred)))\n",
    "print(\"F1-Score on test set: %0.3f\"%(f1_score(y_test, y_pred)))\n",
    "print(\"Confusion Matrix of test set:\\n [ [TN  FP]\\n [FN TP] ]\\n\")\n",
    "df_cm = pd.DataFrame(confusion_matrix(y_test, y_pred), range(2),range(2))\n",
    "sns.set(font_scale=1.4)#for label size\n",
    "sns.heatmap(df_cm, annot=True,annot_kws={\"size\": 16}, fmt='g')"
   ]
  },
  {
   "cell_type": "code",
   "execution_count": 15,
   "metadata": {
    "scrolled": true
   },
   "outputs": [
    {
     "name": "stdout",
     "output_type": "stream",
     "text": [
      "[ 0.00175945  0.00349239  0.01029238  0.00340061  0.0131046   0.00225063\n",
      "  0.00292788  0.00128508  0.00468368  0.00255785  0.00348384  0.00467724\n",
      "  0.00243404  0.00283186  0.00357978  0.00191578  0.00231668  0.00237386\n",
      "  0.00143282  0.00589543  0.00219676  0.00083783  0.00210978  0.0021752\n",
      "  0.00601339  0.00354034  0.01229339  0.00165709  0.00331596  0.00707421\n",
      "  0.00249374  0.0007818   0.00481606  0.00156479  0.00227053  0.00379202\n",
      "  0.0062249   0.0032119   0.00117164  0.0009885   0.0010391   0.00333548\n",
      "  0.00292439  0.00337951  0.00043645  0.00096249  0.00078105  0.00324372\n",
      "  0.00570326  0.00180966  0.00076963  0.00335505  0.00047165  0.00237379\n",
      "  0.00217202  0.00327203  0.00207924  0.00312069  0.00238702  0.00067064\n",
      "  0.00195518  0.00306831  0.00040049  0.00112416  0.03474253  0.00416799\n",
      "  0.00461279  0.00421409  0.00197815  0.00273081  0.00317363  0.00448606\n",
      "  0.0019258   0.00417622  0.00391924  0.00376488  0.00197057  0.0012056\n",
      "  0.00359533  0.00099015  0.00400184  0.00546367  0.00230199  0.00553418\n",
      "  0.00135809  0.00283178  0.00256119  0.0035593   0.00168928  0.00631367\n",
      "  0.00177995  0.00090394  0.00164738  0.00189313  0.00177881  0.00333575\n",
      "  0.00344535  0.0026478   0.00341201  0.00567497  0.0026854   0.00452151\n",
      "  0.00175291  0.00401019  0.00446578  0.0026603   0.00286715  0.00278752\n",
      "  0.00044016  0.00365483  0.0026708   0.00164436  0.00157322  0.00123777\n",
      "  0.00214455  0.00115462  0.00177979  0.00285122  0.00255505  0.00750923\n",
      "  0.00426106  0.0005181   0.00350922  0.00190315  0.00267817  0.0015901\n",
      "  0.00247406  0.0014404   0.00617461  0.03182481  0.0020119   0.0009531\n",
      "  0.00393701  0.00338425  0.00449479  0.00240782  0.00985662  0.00053095\n",
      "  0.00614303  0.00728035  0.0014047   0.00256019  0.00057193  0.00241279\n",
      "  0.00263629  0.00176986  0.00136869  0.0020795   0.00474394  0.0012562\n",
      "  0.00278585  0.00550231  0.00260703  0.00109594  0.00266508  0.00223291\n",
      "  0.01114757  0.00305247  0.00265588  0.00601931  0.00189006  0.00233362\n",
      "  0.00186998  0.00137466  0.00340147  0.00194963  0.00640736  0.00184362\n",
      "  0.00368119  0.00080786  0.00109086  0.00174567  0.01623835  0.00308905\n",
      "  0.00736593  0.00112587  0.00566483  0.00159119  0.00408131  0.00062634\n",
      "  0.00633076  0.00369     0.00113529  0.02408066  0.00281456  0.00263503\n",
      "  0.00229636  0.00945727  0.00105891  0.01036404  0.00165478  0.01087618\n",
      "  0.00062369  0.00408989  0.00073416  0.00122387  0.00245974  0.00293706\n",
      "  0.00241657  0.00330297  0.00223897  0.00162     0.00174085  0.00170954\n",
      "  0.00361006  0.00197003  0.00256667  0.00190508  0.00225011  0.00154403\n",
      "  0.00453882  0.00126902  0.00779773  0.00256333  0.00191855  0.00270011\n",
      "  0.00089373  0.00217851  0.00309232  0.00286658  0.00287071  0.00276338\n",
      "  0.00230348  0.00153251  0.00891638  0.00291375  0.00232862  0.01380346\n",
      "  0.00291537  0.00207311  0.01329067  0.00244158  0.00338491  0.00321937\n",
      "  0.00327331  0.00221758  0.00720343  0.00177582  0.00938908  0.00329011\n",
      "  0.00276732  0.00191605  0.00316925  0.001914    0.00216173  0.0043375\n",
      "  0.00253704  0.00375367  0.00188641  0.00308555  0.00185399  0.00173106\n",
      "  0.00171414  0.00155262  0.00299506  0.00287896  0.00216389  0.00400974\n",
      "  0.00141335  0.00222588  0.00023116  0.00253624  0.00242896  0.00200139\n",
      "  0.00160875  0.00018112  0.00121943  0.00107297  0.0047928   0.00214538\n",
      "  0.00178388  0.00186288  0.00823627  0.00038574  0.00659286  0.003352\n",
      "  0.00365898  0.00265732  0.00151684  0.00218066  0.00137875  0.006831\n",
      "  0.00303114  0.00086544  0.00448284  0.00268064  0.00068265  0.00199905\n",
      "  0.00281741  0.00082431  0.00101603  0.00160528  0.00264946  0.0018076\n",
      "  0.00110239  0.00042491  0.0005206   0.00096789  0.00236486  0.00343665]\n"
     ]
    }
   ],
   "source": [
    "importances = clf.feature_importances_\n",
    "print(importances)"
   ]
  },
  {
   "cell_type": "markdown",
   "metadata": {},
   "source": [
    "But since the features in Word2Vec aren't interpretable its needless to get the feature importance"
   ]
  },
  {
   "cell_type": "markdown",
   "metadata": {},
   "source": [
    "## Tf-idf W2Vec\n",
    "* Another way to covert sentence into vectors\n",
    "* Take weighted sum of the vectors divided by the sum of all the tfidf's \n",
    "<br>i.e. (tfidf(word) x w2v(word))/sum(tfidf's)"
   ]
  },
  {
   "cell_type": "code",
   "execution_count": 11,
   "metadata": {},
   "outputs": [
    {
     "name": "stdout",
     "output_type": "stream",
     "text": [
      "(25000, 589499)\n",
      "CPU times: user 6.15 s, sys: 16 ms, total: 6.16 s\n",
      "Wall time: 6.16 s\n"
     ]
    }
   ],
   "source": [
    "%%time\n",
    "#Taking Sample Data as it was taking more that 10 hours to computer this block\n",
    "n_samples = 25000\n",
    "df_sample_new = df_sample.sample(n_samples)\n",
    "\n",
    "###Sorting as we want according to time series\n",
    "df_sample_new.sort_values('Time',inplace=True) \n",
    "\n",
    "###tf-idf with No Stemming\n",
    "from sklearn.feature_extraction.text import TfidfVectorizer\n",
    "tfidf = TfidfVectorizer(ngram_range=(1,2)) #Using bi-grams\n",
    "\n",
    "tfidf_vec_new = tfidf.fit_transform(df_sample_new['CleanedText_NoStem'].values)\n",
    "\n",
    "print(tfidf_vec_new.shape)\n",
    "\n",
    "# tf-idf came up with 2.9 million features for the data corpus\n",
    "# from sklearn.decomposition import TruncatedSVD\n",
    "\n",
    "# tsvd_tfidf_ns = TruncatedSVD(n_components=300)#No of components as total dimensions\n",
    "# tsvd_tfidf_vec_ns = tsvd_tfidf_ns.fit_transform(tfidf_vec_ns)\n",
    "# print(tsvd_tfidf_ns.explained_variance_ratio_[:].sum())\n",
    "features = tfidf.get_feature_names()"
   ]
  },
  {
   "cell_type": "code",
   "execution_count": null,
   "metadata": {},
   "outputs": [],
   "source": [
    "%%time\n",
    "tfidf_w2v_vec_google = []\n",
    "review = 0\n",
    "\n",
    "for sent in df_sample_new['CleanedText_NoStem'].values:\n",
    "    cnt = 0 \n",
    "    weighted_sum  = 0\n",
    "    sent_vec = np.zeros(300)\n",
    "    sent = sent.decode(\"utf-8\") \n",
    "    for word in sent.split():\n",
    "        try:\n",
    "#             print(word)\n",
    "            wvec = w2vec_model.wv[word] #Vector of each using w2v model\n",
    "#             print(\"w2vec:\",wvec)\n",
    "#             print(\"tfidf:\",tfidf_vec_ns[review,features.index(word)])\n",
    "            tfidf_vec = tfidf_vec_new[review,features.index(word)]\n",
    "            sent_vec += (wvec * tfidf_vec)\n",
    "            weighted_sum += tfidf_vec\n",
    "        except:\n",
    "#             print(review)\n",
    "            pass\n",
    "    sent_vec /= weighted_sum\n",
    "#     print(sent_vec)\n",
    "    tfidf_w2v_vec_google.append(sent_vec)\n",
    "    review += 1\n",
    "tfidf_w2v_vec_google = np.array(tfidf_w2v_vec_google)\n",
    "savetofile(tfidf_w2v_vec_google,\"tfidf_w2v_vec_google\")"
   ]
  },
  {
   "cell_type": "code",
   "execution_count": 72,
   "metadata": {},
   "outputs": [],
   "source": [
    "#Precomputed File\n",
    "tfidf_w2v_vec_google = openfromfile(\"tfidf_w2v_vec_google\")\n",
    "#Loading the same samples as using precomuted file\n",
    "df_sample_new = openfromfile(\"df_sample_new_tfidfw2vec\")"
   ]
  },
  {
   "cell_type": "code",
   "execution_count": 73,
   "metadata": {},
   "outputs": [],
   "source": [
    "from sklearn import preprocessing\n",
    "from sklearn.model_selection import train_test_split\n",
    "\n",
    "tfidfw2v_vecs_norm = preprocessing.normalize(tfidf_w2v_vec_google)\n",
    "\n",
    "#Not shuffling the data as we want it on time basis\n",
    "X_train, X_test, y_train, y_test = train_test_split(tfidfw2v_vecs_norm,df_sample_new['Score'].values,test_size=0.3,shuffle=False)"
   ]
  },
  {
   "cell_type": "code",
   "execution_count": 76,
   "metadata": {
    "scrolled": false
   },
   "outputs": [
    {
     "name": "stdout",
     "output_type": "stream",
     "text": [
      "CPU times: user 0 ns, sys: 0 ns, total: 0 ns\n",
      "Wall time: 13.4 µs\n",
      "Fitting 10 folds for each of 30 candidates, totalling 300 fits\n"
     ]
    },
    {
     "name": "stderr",
     "output_type": "stream",
     "text": [
      "[Parallel(n_jobs=1)]: Done 300 out of 300 | elapsed: 44.0min finished\n"
     ]
    },
    {
     "name": "stdout",
     "output_type": "stream",
     "text": [
      "Best HyperParameter:  {'max_depth': 57}\n",
      "Best Accuracy: 29.07%\n"
     ]
    }
   ],
   "source": [
    "%time\n",
    "from sklearn.model_selection import TimeSeriesSplit\n",
    "from sklearn.model_selection import GridSearchCV\n",
    "from sklearn.tree import DecisionTreeClassifier\n",
    "from scipy.stats import randint as sp_randint\n",
    "\n",
    "g = sp_randint(2,300)\n",
    "clf = DecisionTreeClassifier()\n",
    "param_grid = {'max_depth':sorted(g.rvs(30))} #params we need to try on classifier\n",
    "tscv = TimeSeriesSplit(n_splits=10) #For time based splitting\n",
    "gsv = GridSearchCV(clf,param_grid,cv=tscv,verbose=1,scoring='f1')\n",
    "gsv.fit(X_train,y_train)\n",
    "savetofile(gsv,\"Decision Trees/gsv_tfidfaw2v\")\n",
    "print(\"Best HyperParameter: \",gsv.best_params_)\n",
    "print(\"Best Accuracy: %.2f%%\"%(gsv.best_score_*100))"
   ]
  },
  {
   "cell_type": "code",
   "execution_count": 79,
   "metadata": {},
   "outputs": [
    {
     "data": {
      "image/png": "[encoded data removed]",
      "text/plain": [
       "<matplotlib.figure.Figure at 0x3fff04241358>"
      ]
     },
     "metadata": {},
     "output_type": "display_data"
    }
   ],
   "source": [
    "gsv = openfromfile(\"Decision Trees/gsv_tfidfaw2v\")\n",
    "x=[]\n",
    "y=[]\n",
    "for a in gsv.grid_scores_:\n",
    "    x.append(a[0]['max_depth']) \n",
    "    y.append(a[1])\n",
    "plt.xlim(0,300)\n",
    "plt.ylim(0.0,0.3)\n",
    "plt.xlabel(r\"max depth\",fontsize=15)\n",
    "plt.ylabel(\"f1-score\")\n",
    "plt.title(r'F1 Score v/s Max Depth')\n",
    "plt.plot(x,y)\n",
    "plt.show()"
   ]
  },
  {
   "cell_type": "code",
   "execution_count": 80,
   "metadata": {
    "scrolled": true
   },
   "outputs": [
    {
     "name": "stdout",
     "output_type": "stream",
     "text": [
      "Accuracy on test set: 77.093%\n",
      "Precision on test set: 0.298\n",
      "Recall on test set: 0.310\n",
      "F1-Score on test set: 0.304\n",
      "Confusion Matrix of test set:\n",
      " [ [TN  FP]\n",
      " [FN TP] ]\n",
      "\n"
     ]
    },
    {
     "data": {
      "text/plain": [
       "<matplotlib.axes._subplots.AxesSubplot at 0x3ffddda6c6d8>"
      ]
     },
     "execution_count": 80,
     "metadata": {},
     "output_type": "execute_result"
    },
    {
     "data": {
      "image/png": "[encoded data removed]",
      "text/plain": [
       "<matplotlib.figure.Figure at 0x3ffdde2ddb00>"
      ]
     },
     "metadata": {},
     "output_type": "display_data"
    }
   ],
   "source": [
    "#Testing Accuracy on Test data\n",
    "from sklearn.tree import DecisionTreeClassifier\n",
    "\n",
    "clf = DecisionTreeClassifier(max_depth=57)\n",
    "clf.fit(X_train,y_train)\n",
    "y_pred = clf.predict(X_test)\n",
    "print(\"Accuracy on test set: %0.3f%%\"%(accuracy_score(y_test, y_pred)*100))\n",
    "print(\"Precision on test set: %0.3f\"%(precision_score(y_test, y_pred)))\n",
    "print(\"Recall on test set: %0.3f\"%(recall_score(y_test, y_pred)))\n",
    "print(\"F1-Score on test set: %0.3f\"%(f1_score(y_test, y_pred)))\n",
    "print(\"Confusion Matrix of test set:\\n [ [TN  FP]\\n [FN TP] ]\\n\")\n",
    "df_cm = pd.DataFrame(confusion_matrix(y_test, y_pred), range(2),range(2))\n",
    "sns.set(font_scale=1.4)#for label size\n",
    "sns.heatmap(df_cm, annot=True,annot_kws={\"size\": 16}, fmt='g')"
   ]
  },
  {
   "cell_type": "markdown",
   "metadata": {},
   "source": [
    "## Performance Table"
   ]
  },
  {
   "cell_type": "markdown",
   "metadata": {},
   "source": [
    "![image](https://image.ibb.co/kokTjJ/6_Decision_Trees.png)"
   ]
  },
  {
   "cell_type": "markdown",
   "metadata": {},
   "source": [
    "## Conclusions\n",
    "1. Decision Trees on Uni-gram, bi-gram and tfidf would have taken forever if had taken all the dimensions as it had huge dimension and hence tried with max 300 as max_depth\n",
    "2. Bi-gram Featurization(max_depth=73) gave the best results with accuracy of 85.11% and F1-score of 0.513\n",
    "3. Plotted feature importance for Uni-gram, bi-gram and tfidf but not for Avg Word2Vec and Tfidf Avg Word2Vec as Word2Vec featurizations are highly co-related hence can't directly get the feature importance"
   ]
  }
 ],
 "metadata": {
  "kernelspec": {
   "display_name": "Python 3",
   "language": "python",
   "name": "python3"
  },
  "language_info": {
   "codemirror_mode": {
    "name": "ipython",
    "version": 3
   },
   "file_extension": ".py",
   "mimetype": "text/x-python",
   "name": "python",
   "nbconvert_exporter": "python",
   "pygments_lexer": "ipython3",
   "version": "3.6.5"
  }
 },
 "nbformat": 4,
 "nbformat_minor": 2
}
