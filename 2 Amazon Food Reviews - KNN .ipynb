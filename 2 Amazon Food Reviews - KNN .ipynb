{
 "cells": [
  {
   "cell_type": "markdown",
   "metadata": {},
   "source": [
    "# Amazon Food Reviews\n",
    "\n",
    "Data Source:https://www.kaggle.com/snap/amazon-fine-food-reviews\n",
    "\n",
    "This dataset consists of reviews of fine foods from Amazon. The data span a period of more than 10 years, including all ~500,000 reviews up to October 2012. Reviews include product and user information, ratings, and a plain text review. It also includes reviews from all other Amazon categories.\n",
    "\n",
    "![alt text](http://nycdatascience.com/blog/wp-content/uploads/2016/04/NewCover.png)"
   ]
  },
  {
   "cell_type": "markdown",
   "metadata": {},
   "source": [
    "#### Data includes:\n",
    "- Reviews from Oct 1999 - Oct 2012\n",
    "- 568,454 reviews\n",
    "- 256,059 users\n",
    "- 74,258 products\n",
    "- 260 users with > 50 reviews\n",
    "\n",
    "#### Attribute Information:\n",
    "\n",
    "1. Id\n",
    "2. ProductId - unique identifier for the product\n",
    "3. UserId - unqiue identifier for the user\n",
    "4. ProfileName\n",
    "5. HelpfulnessNumerator - number of users who found the review helpful\n",
    "6. HelpfulnessDenominator - number of users who indicated whether they found the review helpful or not\n",
    "7. Score - rating between 1 and 5\n",
    "8. Time - timestamp for the review\n",
    "9. Summary - brief summary of the review\n",
    "10. Text - text of the review"
   ]
  },
  {
   "cell_type": "markdown",
   "metadata": {},
   "source": [
    "![alt text](http://nycdatascience.com/blog/wp-content/uploads/2016/04/AmazonReview.png)"
   ]
  },
  {
   "cell_type": "markdown",
   "metadata": {},
   "source": [
    "\n",
    "### Objective:- Review Polarity\n",
    "Given a review, determine the review is positive or neagative\n",
    "\n",
    "#### Using text review to decide the polarity\n",
    "Take the summary and text of review and analyze it using NLP whether the customer feedback/review is positive or negative\n"
   ]
  },
  {
   "cell_type": "code",
   "execution_count": 2,
   "metadata": {},
   "outputs": [],
   "source": [
    "# !pip install --upgrade pip\n",
    "# !pip install qtconsole ipywidgets widgetsnbextension\n",
    "# !pip install seaborn\n",
    "# !pip install nltk\n",
    "# import nltk\n",
    "# nltk.download(\"stopwords\")\n",
    "# !pip install gensim"
   ]
  },
  {
   "cell_type": "code",
   "execution_count": 1,
   "metadata": {},
   "outputs": [],
   "source": [
    "#Imports\n",
    "import numpy as np\n",
    "import pandas as pd\n",
    "import matplotlib.pyplot as plt\n",
    "import sqlite3 as sql\n",
    "import seaborn as sns\n",
    "from time import time\n",
    "import random\n",
    "import gensim\n",
    "\n",
    "%matplotlib inline \n",
    "# sets the backend of matplotlib to the 'inline' backend:\n",
    "#With this backend, the output of plotting commands is displayed inline within frontends like the Jupyter notebook,\n",
    "#directly below the code cell that produced it. The resulting plots will then also be stored in the notebook document.\n",
    "\n",
    "#Functions to save objects for later use and retireve it\n",
    "import pickle\n",
    "def savetofile(obj,filename):\n",
    "    pickle.dump(obj,open(filename+\".p\",\"wb\"))\n",
    "def openfromfile(filename):\n",
    "    temp = pickle.load(open(filename+\".p\",\"rb\"))\n",
    "    return temp"
   ]
  },
  {
   "cell_type": "code",
   "execution_count": 4,
   "metadata": {},
   "outputs": [],
   "source": [
    "# !wget --header=\"Host: storage.googleapis.com\" --header=\"User-Agent: Mozilla/5.0 (Windows NT 10.0; Win64; x64) AppleWebKit/537.36 (KHTML, like Gecko) Chrome/66.0.3359.139 Safari/537.36\" --header=\"Accept: text/html,application/xhtml+xml,application/xml;q=0.9,image/webp,image/apng,*/*;q=0.8\" --header=\"Accept-Language: en-US,en;q=0.9\" \"https://storage.googleapis.com/kaggle-datasets/18/2157/database.sqlite.zip?GoogleAccessId=web-data@kaggle-161607.iam.gserviceaccount.com&Expires=1526375292&Signature=G95OD7LgGsnAoencBUsNHa3R2iIGiXOhdITLbhQVxqZ9IGS3JA9ETgbJRa3tHTguzL0ignoIz2sjQUxyY2YbcD98XR8immdcAmrFlQVA6Jm%2BBju%2BpDGjF05FpW0wGeMq6utKq2Qy8eMtm3NW%2FA%2F7m557B%2Bi3kGcBP4uaEzMk6F%2BpGaZnxcroDAcjpSj9VzU03INKPwpkbxtM%2FrWCaX748Bpgx9uKqwfrRakGR%2BRCpnMHcUukj%2FhaKKRi9QoQaTNpdRjmVB%2FqewKwDXTN8sr701yMkmqItQXBJI9Y312GqSP3Vd%2B3oleta5HZ2L9xlBFyUcLoyUEItOxI4pTjukwu1A%3D%3D\" -O \"database.sqlite.zip\" -c"
   ]
  },
  {
   "cell_type": "markdown",
   "metadata": {},
   "source": [
    "### Loading the data"
   ]
  },
  {
   "cell_type": "code",
   "execution_count": 17,
   "metadata": {},
   "outputs": [
    {
     "data": {
      "text/html": [
       "<div>\n",
       "<style>\n",
       "    .dataframe thead tr:only-child th {\n",
       "        text-align: right;\n",
       "    }\n",
       "\n",
       "    .dataframe thead th {\n",
       "        text-align: left;\n",
       "    }\n",
       "\n",
       "    .dataframe tbody tr th {\n",
       "        vertical-align: top;\n",
       "    }\n",
       "</style>\n",
       "<table border=\"1\" class=\"dataframe\">\n",
       "  <thead>\n",
       "    <tr style=\"text-align: right;\">\n",
       "      <th></th>\n",
       "      <th>index</th>\n",
       "      <th>Id</th>\n",
       "      <th>ProductId</th>\n",
       "      <th>UserId</th>\n",
       "      <th>ProfileName</th>\n",
       "      <th>HelpfulnessNumerator</th>\n",
       "      <th>HelpfulnessDenominator</th>\n",
       "      <th>Score</th>\n",
       "      <th>Time</th>\n",
       "      <th>Summary</th>\n",
       "      <th>Text</th>\n",
       "      <th>CleanedText</th>\n",
       "    </tr>\n",
       "  </thead>\n",
       "  <tbody>\n",
       "    <tr>\n",
       "      <th>0</th>\n",
       "      <td>0</td>\n",
       "      <td>1</td>\n",
       "      <td>B001E4KFG0</td>\n",
       "      <td>A3SGXH7AUHU8GW</td>\n",
       "      <td>delmartian</td>\n",
       "      <td>1</td>\n",
       "      <td>1</td>\n",
       "      <td>Positive</td>\n",
       "      <td>1303862400</td>\n",
       "      <td>Good Quality Dog Food</td>\n",
       "      <td>I have bought several of the Vitality canned d...</td>\n",
       "      <td>b'bought sever vital can dog food product foun...</td>\n",
       "    </tr>\n",
       "    <tr>\n",
       "      <th>1</th>\n",
       "      <td>1</td>\n",
       "      <td>2</td>\n",
       "      <td>B00813GRG4</td>\n",
       "      <td>A1D87F6ZCVE5NK</td>\n",
       "      <td>dll pa</td>\n",
       "      <td>0</td>\n",
       "      <td>0</td>\n",
       "      <td>Negative</td>\n",
       "      <td>1346976000</td>\n",
       "      <td>Not as Advertised</td>\n",
       "      <td>Product arrived labeled as Jumbo Salted Peanut...</td>\n",
       "      <td>b'product arriv label jumbo salt peanutsth pea...</td>\n",
       "    </tr>\n",
       "    <tr>\n",
       "      <th>2</th>\n",
       "      <td>2</td>\n",
       "      <td>3</td>\n",
       "      <td>B000LQOCH0</td>\n",
       "      <td>ABXLMWJIXXAIN</td>\n",
       "      <td>Natalia Corres \"Natalia Corres\"</td>\n",
       "      <td>1</td>\n",
       "      <td>1</td>\n",
       "      <td>Positive</td>\n",
       "      <td>1219017600</td>\n",
       "      <td>\"Delight\" says it all</td>\n",
       "      <td>This is a confection that has been around a fe...</td>\n",
       "      <td>b'confect around centuri light pillowi citrus ...</td>\n",
       "    </tr>\n",
       "    <tr>\n",
       "      <th>3</th>\n",
       "      <td>3</td>\n",
       "      <td>4</td>\n",
       "      <td>B000UA0QIQ</td>\n",
       "      <td>A395BORC6FGVXV</td>\n",
       "      <td>Karl</td>\n",
       "      <td>3</td>\n",
       "      <td>3</td>\n",
       "      <td>Negative</td>\n",
       "      <td>1307923200</td>\n",
       "      <td>Cough Medicine</td>\n",
       "      <td>If you are looking for the secret ingredient i...</td>\n",
       "      <td>b'look secret ingredi robitussin believ found ...</td>\n",
       "    </tr>\n",
       "    <tr>\n",
       "      <th>4</th>\n",
       "      <td>4</td>\n",
       "      <td>5</td>\n",
       "      <td>B006K2ZZ7K</td>\n",
       "      <td>A1UQRSCLF8GW1T</td>\n",
       "      <td>Michael D. Bigham \"M. Wassir\"</td>\n",
       "      <td>0</td>\n",
       "      <td>0</td>\n",
       "      <td>Positive</td>\n",
       "      <td>1350777600</td>\n",
       "      <td>Great taffy</td>\n",
       "      <td>Great taffy at a great price.  There was a wid...</td>\n",
       "      <td>b'great taffi great price wide assort yummi ta...</td>\n",
       "    </tr>\n",
       "  </tbody>\n",
       "</table>\n",
       "</div>"
      ],
      "text/plain": [
       "   index  Id   ProductId          UserId                      ProfileName  \\\n",
       "0      0   1  B001E4KFG0  A3SGXH7AUHU8GW                       delmartian   \n",
       "1      1   2  B00813GRG4  A1D87F6ZCVE5NK                           dll pa   \n",
       "2      2   3  B000LQOCH0   ABXLMWJIXXAIN  Natalia Corres \"Natalia Corres\"   \n",
       "3      3   4  B000UA0QIQ  A395BORC6FGVXV                             Karl   \n",
       "4      4   5  B006K2ZZ7K  A1UQRSCLF8GW1T    Michael D. Bigham \"M. Wassir\"   \n",
       "\n",
       "   HelpfulnessNumerator  HelpfulnessDenominator     Score        Time  \\\n",
       "0                     1                       1  Positive  1303862400   \n",
       "1                     0                       0  Negative  1346976000   \n",
       "2                     1                       1  Positive  1219017600   \n",
       "3                     3                       3  Negative  1307923200   \n",
       "4                     0                       0  Positive  1350777600   \n",
       "\n",
       "                 Summary                                               Text  \\\n",
       "0  Good Quality Dog Food  I have bought several of the Vitality canned d...   \n",
       "1      Not as Advertised  Product arrived labeled as Jumbo Salted Peanut...   \n",
       "2  \"Delight\" says it all  This is a confection that has been around a fe...   \n",
       "3         Cough Medicine  If you are looking for the secret ingredient i...   \n",
       "4            Great taffy  Great taffy at a great price.  There was a wid...   \n",
       "\n",
       "                                         CleanedText  \n",
       "0  b'bought sever vital can dog food product foun...  \n",
       "1  b'product arriv label jumbo salt peanutsth pea...  \n",
       "2  b'confect around centuri light pillowi citrus ...  \n",
       "3  b'look secret ingredi robitussin believ found ...  \n",
       "4  b'great taffi great price wide assort yummi ta...  "
      ]
     },
     "execution_count": 17,
     "metadata": {},
     "output_type": "execute_result"
    }
   ],
   "source": [
    "#Using sqlite3 to retrieve data from sqlite file\n",
    "\n",
    "con = sql.connect(\"final.sqlite\")#Loading Cleaned/ Preprocesed text that we did in Text Preprocessing\n",
    "\n",
    "#Using pandas functions to query from sql table\n",
    "df = pd.read_sql_query(\"\"\"\n",
    "SELECT * FROM Reviews \n",
    "\"\"\",con)\n",
    "\n",
    "#Reviews is the name of the table given\n",
    "#Taking only the data where score != 3 as score 3 will be neutral and it won't help us much\n",
    "df.head()"
   ]
  },
  {
   "cell_type": "code",
   "execution_count": 18,
   "metadata": {},
   "outputs": [
    {
     "data": {
      "text/html": [
       "<div>\n",
       "<style>\n",
       "    .dataframe thead tr:only-child th {\n",
       "        text-align: right;\n",
       "    }\n",
       "\n",
       "    .dataframe thead th {\n",
       "        text-align: left;\n",
       "    }\n",
       "\n",
       "    .dataframe tbody tr th {\n",
       "        vertical-align: top;\n",
       "    }\n",
       "</style>\n",
       "<table border=\"1\" class=\"dataframe\">\n",
       "  <thead>\n",
       "    <tr style=\"text-align: right;\">\n",
       "      <th></th>\n",
       "      <th>index</th>\n",
       "      <th>Id</th>\n",
       "      <th>HelpfulnessNumerator</th>\n",
       "      <th>HelpfulnessDenominator</th>\n",
       "      <th>Time</th>\n",
       "    </tr>\n",
       "  </thead>\n",
       "  <tbody>\n",
       "    <tr>\n",
       "      <th>count</th>\n",
       "      <td>364171.000000</td>\n",
       "      <td>364171.000000</td>\n",
       "      <td>364171.000000</td>\n",
       "      <td>364171.000000</td>\n",
       "      <td>3.641710e+05</td>\n",
       "    </tr>\n",
       "    <tr>\n",
       "      <th>mean</th>\n",
       "      <td>241825.377603</td>\n",
       "      <td>261814.561014</td>\n",
       "      <td>1.739021</td>\n",
       "      <td>2.186841</td>\n",
       "      <td>1.296135e+09</td>\n",
       "    </tr>\n",
       "    <tr>\n",
       "      <th>std</th>\n",
       "      <td>154519.869452</td>\n",
       "      <td>166958.768333</td>\n",
       "      <td>6.723921</td>\n",
       "      <td>7.348482</td>\n",
       "      <td>4.864772e+07</td>\n",
       "    </tr>\n",
       "    <tr>\n",
       "      <th>min</th>\n",
       "      <td>0.000000</td>\n",
       "      <td>1.000000</td>\n",
       "      <td>0.000000</td>\n",
       "      <td>0.000000</td>\n",
       "      <td>9.393408e+08</td>\n",
       "    </tr>\n",
       "    <tr>\n",
       "      <th>25%</th>\n",
       "      <td>104427.500000</td>\n",
       "      <td>113379.500000</td>\n",
       "      <td>0.000000</td>\n",
       "      <td>0.000000</td>\n",
       "      <td>1.270858e+09</td>\n",
       "    </tr>\n",
       "    <tr>\n",
       "      <th>50%</th>\n",
       "      <td>230033.000000</td>\n",
       "      <td>249445.000000</td>\n",
       "      <td>0.000000</td>\n",
       "      <td>1.000000</td>\n",
       "      <td>1.311379e+09</td>\n",
       "    </tr>\n",
       "    <tr>\n",
       "      <th>75%</th>\n",
       "      <td>376763.500000</td>\n",
       "      <td>407408.500000</td>\n",
       "      <td>2.000000</td>\n",
       "      <td>2.000000</td>\n",
       "      <td>1.332893e+09</td>\n",
       "    </tr>\n",
       "    <tr>\n",
       "      <th>max</th>\n",
       "      <td>525813.000000</td>\n",
       "      <td>568454.000000</td>\n",
       "      <td>866.000000</td>\n",
       "      <td>878.000000</td>\n",
       "      <td>1.351210e+09</td>\n",
       "    </tr>\n",
       "  </tbody>\n",
       "</table>\n",
       "</div>"
      ],
      "text/plain": [
       "               index             Id  HelpfulnessNumerator  \\\n",
       "count  364171.000000  364171.000000         364171.000000   \n",
       "mean   241825.377603  261814.561014              1.739021   \n",
       "std    154519.869452  166958.768333              6.723921   \n",
       "min         0.000000       1.000000              0.000000   \n",
       "25%    104427.500000  113379.500000              0.000000   \n",
       "50%    230033.000000  249445.000000              0.000000   \n",
       "75%    376763.500000  407408.500000              2.000000   \n",
       "max    525813.000000  568454.000000            866.000000   \n",
       "\n",
       "       HelpfulnessDenominator          Time  \n",
       "count           364171.000000  3.641710e+05  \n",
       "mean                 2.186841  1.296135e+09  \n",
       "std                  7.348482  4.864772e+07  \n",
       "min                  0.000000  9.393408e+08  \n",
       "25%                  0.000000  1.270858e+09  \n",
       "50%                  1.000000  1.311379e+09  \n",
       "75%                  2.000000  1.332893e+09  \n",
       "max                878.000000  1.351210e+09  "
      ]
     },
     "execution_count": 18,
     "metadata": {},
     "output_type": "execute_result"
    }
   ],
   "source": [
    "df.describe()"
   ]
  },
  {
   "cell_type": "code",
   "execution_count": 19,
   "metadata": {},
   "outputs": [
    {
     "data": {
      "text/plain": [
       "364171"
      ]
     },
     "execution_count": 19,
     "metadata": {},
     "output_type": "execute_result"
    }
   ],
   "source": [
    "df.shape\n",
    "df['Score'].size"
   ]
  },
  {
   "cell_type": "markdown",
   "metadata": {},
   "source": [
    "<b>-> For EDA Refer other ipynb notebook<b>"
   ]
  },
  {
   "cell_type": "markdown",
   "metadata": {},
   "source": [
    "Score as positive or negative"
   ]
  },
  {
   "cell_type": "code",
   "execution_count": 21,
   "metadata": {
    "scrolled": true
   },
   "outputs": [
    {
     "data": {
      "text/html": [
       "<div>\n",
       "<style>\n",
       "    .dataframe thead tr:only-child th {\n",
       "        text-align: right;\n",
       "    }\n",
       "\n",
       "    .dataframe thead th {\n",
       "        text-align: left;\n",
       "    }\n",
       "\n",
       "    .dataframe tbody tr th {\n",
       "        vertical-align: top;\n",
       "    }\n",
       "</style>\n",
       "<table border=\"1\" class=\"dataframe\">\n",
       "  <thead>\n",
       "    <tr style=\"text-align: right;\">\n",
       "      <th></th>\n",
       "      <th>index</th>\n",
       "      <th>Id</th>\n",
       "      <th>ProductId</th>\n",
       "      <th>UserId</th>\n",
       "      <th>ProfileName</th>\n",
       "      <th>HelpfulnessNumerator</th>\n",
       "      <th>HelpfulnessDenominator</th>\n",
       "      <th>Score</th>\n",
       "      <th>Time</th>\n",
       "      <th>Summary</th>\n",
       "      <th>Text</th>\n",
       "      <th>CleanedText</th>\n",
       "    </tr>\n",
       "  </thead>\n",
       "  <tbody>\n",
       "    <tr>\n",
       "      <th>0</th>\n",
       "      <td>0</td>\n",
       "      <td>1</td>\n",
       "      <td>B001E4KFG0</td>\n",
       "      <td>A3SGXH7AUHU8GW</td>\n",
       "      <td>delmartian</td>\n",
       "      <td>1</td>\n",
       "      <td>1</td>\n",
       "      <td>0</td>\n",
       "      <td>1303862400</td>\n",
       "      <td>Good Quality Dog Food</td>\n",
       "      <td>I have bought several of the Vitality canned d...</td>\n",
       "      <td>b'bought sever vital can dog food product foun...</td>\n",
       "    </tr>\n",
       "    <tr>\n",
       "      <th>1</th>\n",
       "      <td>1</td>\n",
       "      <td>2</td>\n",
       "      <td>B00813GRG4</td>\n",
       "      <td>A1D87F6ZCVE5NK</td>\n",
       "      <td>dll pa</td>\n",
       "      <td>0</td>\n",
       "      <td>0</td>\n",
       "      <td>1</td>\n",
       "      <td>1346976000</td>\n",
       "      <td>Not as Advertised</td>\n",
       "      <td>Product arrived labeled as Jumbo Salted Peanut...</td>\n",
       "      <td>b'product arriv label jumbo salt peanutsth pea...</td>\n",
       "    </tr>\n",
       "    <tr>\n",
       "      <th>2</th>\n",
       "      <td>2</td>\n",
       "      <td>3</td>\n",
       "      <td>B000LQOCH0</td>\n",
       "      <td>ABXLMWJIXXAIN</td>\n",
       "      <td>Natalia Corres \"Natalia Corres\"</td>\n",
       "      <td>1</td>\n",
       "      <td>1</td>\n",
       "      <td>0</td>\n",
       "      <td>1219017600</td>\n",
       "      <td>\"Delight\" says it all</td>\n",
       "      <td>This is a confection that has been around a fe...</td>\n",
       "      <td>b'confect around centuri light pillowi citrus ...</td>\n",
       "    </tr>\n",
       "    <tr>\n",
       "      <th>3</th>\n",
       "      <td>3</td>\n",
       "      <td>4</td>\n",
       "      <td>B000UA0QIQ</td>\n",
       "      <td>A395BORC6FGVXV</td>\n",
       "      <td>Karl</td>\n",
       "      <td>3</td>\n",
       "      <td>3</td>\n",
       "      <td>1</td>\n",
       "      <td>1307923200</td>\n",
       "      <td>Cough Medicine</td>\n",
       "      <td>If you are looking for the secret ingredient i...</td>\n",
       "      <td>b'look secret ingredi robitussin believ found ...</td>\n",
       "    </tr>\n",
       "    <tr>\n",
       "      <th>4</th>\n",
       "      <td>4</td>\n",
       "      <td>5</td>\n",
       "      <td>B006K2ZZ7K</td>\n",
       "      <td>A1UQRSCLF8GW1T</td>\n",
       "      <td>Michael D. Bigham \"M. Wassir\"</td>\n",
       "      <td>0</td>\n",
       "      <td>0</td>\n",
       "      <td>0</td>\n",
       "      <td>1350777600</td>\n",
       "      <td>Great taffy</td>\n",
       "      <td>Great taffy at a great price.  There was a wid...</td>\n",
       "      <td>b'great taffi great price wide assort yummi ta...</td>\n",
       "    </tr>\n",
       "  </tbody>\n",
       "</table>\n",
       "</div>"
      ],
      "text/plain": [
       "   index  Id   ProductId          UserId                      ProfileName  \\\n",
       "0      0   1  B001E4KFG0  A3SGXH7AUHU8GW                       delmartian   \n",
       "1      1   2  B00813GRG4  A1D87F6ZCVE5NK                           dll pa   \n",
       "2      2   3  B000LQOCH0   ABXLMWJIXXAIN  Natalia Corres \"Natalia Corres\"   \n",
       "3      3   4  B000UA0QIQ  A395BORC6FGVXV                             Karl   \n",
       "4      4   5  B006K2ZZ7K  A1UQRSCLF8GW1T    Michael D. Bigham \"M. Wassir\"   \n",
       "\n",
       "   HelpfulnessNumerator  HelpfulnessDenominator  Score        Time  \\\n",
       "0                     1                       1      0  1303862400   \n",
       "1                     0                       0      1  1346976000   \n",
       "2                     1                       1      0  1219017600   \n",
       "3                     3                       3      1  1307923200   \n",
       "4                     0                       0      0  1350777600   \n",
       "\n",
       "                 Summary                                               Text  \\\n",
       "0  Good Quality Dog Food  I have bought several of the Vitality canned d...   \n",
       "1      Not as Advertised  Product arrived labeled as Jumbo Salted Peanut...   \n",
       "2  \"Delight\" says it all  This is a confection that has been around a fe...   \n",
       "3         Cough Medicine  If you are looking for the secret ingredient i...   \n",
       "4            Great taffy  Great taffy at a great price.  There was a wid...   \n",
       "\n",
       "                                         CleanedText  \n",
       "0  b'bought sever vital can dog food product foun...  \n",
       "1  b'product arriv label jumbo salt peanutsth pea...  \n",
       "2  b'confect around centuri light pillowi citrus ...  \n",
       "3  b'look secret ingredi robitussin believ found ...  \n",
       "4  b'great taffi great price wide assort yummi ta...  "
      ]
     },
     "execution_count": 21,
     "metadata": {},
     "output_type": "execute_result"
    }
   ],
   "source": [
    "def polarity(x):\n",
    "    if x == \"Positive\":\n",
    "        return 0\n",
    "    else:\n",
    "        return 1\n",
    "df[\"Score\"] = df[\"Score\"].map(polarity) #Map all the scores as the function polarity i.e. positive or negative\n",
    "df.head()"
   ]
  },
  {
   "cell_type": "code",
   "execution_count": 22,
   "metadata": {},
   "outputs": [
    {
     "data": {
      "text/html": [
       "<div>\n",
       "<style>\n",
       "    .dataframe thead tr:only-child th {\n",
       "        text-align: right;\n",
       "    }\n",
       "\n",
       "    .dataframe thead th {\n",
       "        text-align: left;\n",
       "    }\n",
       "\n",
       "    .dataframe tbody tr th {\n",
       "        vertical-align: top;\n",
       "    }\n",
       "</style>\n",
       "<table border=\"1\" class=\"dataframe\">\n",
       "  <thead>\n",
       "    <tr style=\"text-align: right;\">\n",
       "      <th></th>\n",
       "      <th>index</th>\n",
       "      <th>Id</th>\n",
       "      <th>ProductId</th>\n",
       "      <th>UserId</th>\n",
       "      <th>ProfileName</th>\n",
       "      <th>HelpfulnessNumerator</th>\n",
       "      <th>HelpfulnessDenominator</th>\n",
       "      <th>Score</th>\n",
       "      <th>Time</th>\n",
       "      <th>Summary</th>\n",
       "      <th>Text</th>\n",
       "      <th>CleanedText</th>\n",
       "    </tr>\n",
       "  </thead>\n",
       "  <tbody>\n",
       "    <tr>\n",
       "      <th>117901</th>\n",
       "      <td>138683</td>\n",
       "      <td>150501</td>\n",
       "      <td>0006641040</td>\n",
       "      <td>AJ46FKXOVC7NR</td>\n",
       "      <td>Nicholas A Mesiano</td>\n",
       "      <td>2</td>\n",
       "      <td>2</td>\n",
       "      <td>0</td>\n",
       "      <td>940809600</td>\n",
       "      <td>This whole series is great way to spend time w...</td>\n",
       "      <td>I can remember seeing the show when it aired o...</td>\n",
       "      <td>b'rememb see show air televis year ago child s...</td>\n",
       "    </tr>\n",
       "    <tr>\n",
       "      <th>169281</th>\n",
       "      <td>212472</td>\n",
       "      <td>230285</td>\n",
       "      <td>B00004RYGX</td>\n",
       "      <td>A344SMIA5JECGM</td>\n",
       "      <td>Vincent P. Ross</td>\n",
       "      <td>1</td>\n",
       "      <td>2</td>\n",
       "      <td>0</td>\n",
       "      <td>944438400</td>\n",
       "      <td>A modern day fairy tale</td>\n",
       "      <td>A twist of rumplestiskin captured on film, sta...</td>\n",
       "      <td>b'twist rumplestiskin captur film star michael...</td>\n",
       "    </tr>\n",
       "    <tr>\n",
       "      <th>169328</th>\n",
       "      <td>212519</td>\n",
       "      <td>230334</td>\n",
       "      <td>B00004RYGX</td>\n",
       "      <td>A1GB1Q193DNFGR</td>\n",
       "      <td>Bruce Lee Pullen</td>\n",
       "      <td>5</td>\n",
       "      <td>5</td>\n",
       "      <td>0</td>\n",
       "      <td>970531200</td>\n",
       "      <td>Fabulous Comedic Fanasy Directed by a Master</td>\n",
       "      <td>Beetlejuice is an awe-inspiring wonderfully am...</td>\n",
       "      <td>b'beetlejuic wonder amus comed romp explor inc...</td>\n",
       "    </tr>\n",
       "    <tr>\n",
       "      <th>169280</th>\n",
       "      <td>212471</td>\n",
       "      <td>230284</td>\n",
       "      <td>B00004RYGX</td>\n",
       "      <td>A1HWMNSQF14MP8</td>\n",
       "      <td>will@socialaw.com</td>\n",
       "      <td>1</td>\n",
       "      <td>2</td>\n",
       "      <td>0</td>\n",
       "      <td>978134400</td>\n",
       "      <td>A Afterlife Success</td>\n",
       "      <td>Many movies, have dealt with the figure of dea...</td>\n",
       "      <td>b'mani movi dealt figur death dead good angel ...</td>\n",
       "    </tr>\n",
       "    <tr>\n",
       "      <th>169263</th>\n",
       "      <td>212454</td>\n",
       "      <td>230265</td>\n",
       "      <td>B00004RYGX</td>\n",
       "      <td>AZRJH4JFB59VC</td>\n",
       "      <td>Lynwood E. Hines</td>\n",
       "      <td>21</td>\n",
       "      <td>23</td>\n",
       "      <td>1</td>\n",
       "      <td>997228800</td>\n",
       "      <td>Great movie, terrible DVD</td>\n",
       "      <td>I am continually amazed at the shoddy treatmen...</td>\n",
       "      <td>b'continu amaz shoddi treatment movi get dvd r...</td>\n",
       "    </tr>\n",
       "    <tr>\n",
       "      <th>169279</th>\n",
       "      <td>212470</td>\n",
       "      <td>230283</td>\n",
       "      <td>B00004RYGX</td>\n",
       "      <td>A31RM5QU797HPJ</td>\n",
       "      <td>Drez</td>\n",
       "      <td>1</td>\n",
       "      <td>2</td>\n",
       "      <td>0</td>\n",
       "      <td>1024531200</td>\n",
       "      <td>&amp;quot;I'm the ghost with the most, babe&amp;quot;</td>\n",
       "      <td>Simply put: Beetlejuice is the funniest comedy...</td>\n",
       "      <td>b'simpli beetlejuic funniest comedi kind sinc ...</td>\n",
       "    </tr>\n",
       "    <tr>\n",
       "      <th>161885</th>\n",
       "      <td>202469</td>\n",
       "      <td>219388</td>\n",
       "      <td>B00005IX98</td>\n",
       "      <td>A24IUOMVERXVEG</td>\n",
       "      <td>Rick \"rick_street\"</td>\n",
       "      <td>11</td>\n",
       "      <td>11</td>\n",
       "      <td>0</td>\n",
       "      <td>1036108800</td>\n",
       "      <td>Great Easy cup of Espresso</td>\n",
       "      <td>I've purchased both the Espressione Espresso (...</td>\n",
       "      <td>b'ive purchas espression espresso classic arab...</td>\n",
       "    </tr>\n",
       "    <tr>\n",
       "      <th>169260</th>\n",
       "      <td>212451</td>\n",
       "      <td>230262</td>\n",
       "      <td>B00004RYGX</td>\n",
       "      <td>API663PFYRQCP</td>\n",
       "      <td>Donn Hart</td>\n",
       "      <td>66</td>\n",
       "      <td>67</td>\n",
       "      <td>0</td>\n",
       "      <td>1037750400</td>\n",
       "      <td>Say it once, say it twice, third time's the ch...</td>\n",
       "      <td>When this movie first came out about fifteen y...</td>\n",
       "      <td>b'movi first came fifteen year ago father own ...</td>\n",
       "    </tr>\n",
       "    <tr>\n",
       "      <th>161893</th>\n",
       "      <td>202477</td>\n",
       "      <td>219396</td>\n",
       "      <td>B00005IX98</td>\n",
       "      <td>AGUF1WPEG4GSM</td>\n",
       "      <td>\"lchang44\"</td>\n",
       "      <td>5</td>\n",
       "      <td>8</td>\n",
       "      <td>1</td>\n",
       "      <td>1055376000</td>\n",
       "      <td>Almost expired, Sept '03</td>\n",
       "      <td>I returned this due to the very short/brief ex...</td>\n",
       "      <td>b'return due shortbrief expir date sept would ...</td>\n",
       "    </tr>\n",
       "    <tr>\n",
       "      <th>280071</th>\n",
       "      <td>388413</td>\n",
       "      <td>419994</td>\n",
       "      <td>B0000A0BS5</td>\n",
       "      <td>A238V1XTSK9NFE</td>\n",
       "      <td>Andrew Lynn</td>\n",
       "      <td>46</td>\n",
       "      <td>59</td>\n",
       "      <td>1</td>\n",
       "      <td>1064361600</td>\n",
       "      <td>Not actually for use in espresso machines</td>\n",
       "      <td>Few things I'd like to point out:&lt;p&gt;1.  &amp;quot;...</td>\n",
       "      <td>b'thing like point not roast drink northern it...</td>\n",
       "    </tr>\n",
       "  </tbody>\n",
       "</table>\n",
       "</div>"
      ],
      "text/plain": [
       "         index      Id   ProductId          UserId         ProfileName  \\\n",
       "117901  138683  150501  0006641040   AJ46FKXOVC7NR  Nicholas A Mesiano   \n",
       "169281  212472  230285  B00004RYGX  A344SMIA5JECGM     Vincent P. Ross   \n",
       "169328  212519  230334  B00004RYGX  A1GB1Q193DNFGR    Bruce Lee Pullen   \n",
       "169280  212471  230284  B00004RYGX  A1HWMNSQF14MP8   will@socialaw.com   \n",
       "169263  212454  230265  B00004RYGX   AZRJH4JFB59VC    Lynwood E. Hines   \n",
       "169279  212470  230283  B00004RYGX  A31RM5QU797HPJ                Drez   \n",
       "161885  202469  219388  B00005IX98  A24IUOMVERXVEG  Rick \"rick_street\"   \n",
       "169260  212451  230262  B00004RYGX   API663PFYRQCP           Donn Hart   \n",
       "161893  202477  219396  B00005IX98   AGUF1WPEG4GSM          \"lchang44\"   \n",
       "280071  388413  419994  B0000A0BS5  A238V1XTSK9NFE         Andrew Lynn   \n",
       "\n",
       "        HelpfulnessNumerator  HelpfulnessDenominator  Score        Time  \\\n",
       "117901                     2                       2      0   940809600   \n",
       "169281                     1                       2      0   944438400   \n",
       "169328                     5                       5      0   970531200   \n",
       "169280                     1                       2      0   978134400   \n",
       "169263                    21                      23      1   997228800   \n",
       "169279                     1                       2      0  1024531200   \n",
       "161885                    11                      11      0  1036108800   \n",
       "169260                    66                      67      0  1037750400   \n",
       "161893                     5                       8      1  1055376000   \n",
       "280071                    46                      59      1  1064361600   \n",
       "\n",
       "                                                  Summary  \\\n",
       "117901  This whole series is great way to spend time w...   \n",
       "169281                            A modern day fairy tale   \n",
       "169328       Fabulous Comedic Fanasy Directed by a Master   \n",
       "169280                                A Afterlife Success   \n",
       "169263                          Great movie, terrible DVD   \n",
       "169279      &quot;I'm the ghost with the most, babe&quot;   \n",
       "161885                         Great Easy cup of Espresso   \n",
       "169260  Say it once, say it twice, third time's the ch...   \n",
       "161893                           Almost expired, Sept '03   \n",
       "280071          Not actually for use in espresso machines   \n",
       "\n",
       "                                                     Text  \\\n",
       "117901  I can remember seeing the show when it aired o...   \n",
       "169281  A twist of rumplestiskin captured on film, sta...   \n",
       "169328  Beetlejuice is an awe-inspiring wonderfully am...   \n",
       "169280  Many movies, have dealt with the figure of dea...   \n",
       "169263  I am continually amazed at the shoddy treatmen...   \n",
       "169279  Simply put: Beetlejuice is the funniest comedy...   \n",
       "161885  I've purchased both the Espressione Espresso (...   \n",
       "169260  When this movie first came out about fifteen y...   \n",
       "161893  I returned this due to the very short/brief ex...   \n",
       "280071  Few things I'd like to point out:<p>1.  &quot;...   \n",
       "\n",
       "                                              CleanedText  \n",
       "117901  b'rememb see show air televis year ago child s...  \n",
       "169281  b'twist rumplestiskin captur film star michael...  \n",
       "169328  b'beetlejuic wonder amus comed romp explor inc...  \n",
       "169280  b'mani movi dealt figur death dead good angel ...  \n",
       "169263  b'continu amaz shoddi treatment movi get dvd r...  \n",
       "169279  b'simpli beetlejuic funniest comedi kind sinc ...  \n",
       "161885  b'ive purchas espression espresso classic arab...  \n",
       "169260  b'movi first came fifteen year ago father own ...  \n",
       "161893  b'return due shortbrief expir date sept would ...  \n",
       "280071  b'thing like point not roast drink northern it...  "
      ]
     },
     "execution_count": 22,
     "metadata": {},
     "output_type": "execute_result"
    }
   ],
   "source": [
    "#Taking Sample Data\n",
    "n_samples = 25000\n",
    "df_sample = df.sample(n_samples)\n",
    "df_sample.sort_values('Time',inplace=True) #Sorting as we want according to time series\n",
    "df_sample.head(10)"
   ]
  },
  {
   "cell_type": "code",
   "execution_count": 23,
   "metadata": {},
   "outputs": [],
   "source": [
    "savetofile(df_sample,\"sample_25000_knn\")"
   ]
  },
  {
   "cell_type": "code",
   "execution_count": 7,
   "metadata": {},
   "outputs": [],
   "source": [
    "df_sample = openfromfile(\"sample_25000_knn\")"
   ]
  },
  {
   "cell_type": "markdown",
   "metadata": {},
   "source": [
    "# KNN Models using Different Vectorizing Techniques in NLP"
   ]
  },
  {
   "cell_type": "markdown",
   "metadata": {},
   "source": [
    "## Bag of Words (BoW)\n",
    "\n",
    "A commonly used model in methods of Text Classification. As part of the BOW model, a piece of text (sentence or a document) is represented as a bag or multiset of words, disregarding grammar and even word order and the frequency or occurrence of each word is used as a feature for training a classifier.<br>\n",
    "OR <br>\n",
    "Simply,Converting a collection of text documents to a matrix of token counts"
   ]
  },
  {
   "cell_type": "code",
   "execution_count": 22,
   "metadata": {},
   "outputs": [
    {
     "data": {
      "text/plain": [
       "(25000, 34085)"
      ]
     },
     "execution_count": 22,
     "metadata": {},
     "output_type": "execute_result"
    }
   ],
   "source": [
    "from sklearn.feature_extraction.text import CountVectorizer\n",
    "from sklearn.model_selection import train_test_split\n",
    "\n",
    "#Text -> Uni gram Vectors\n",
    "uni_gram = CountVectorizer() #in scikit-learn\n",
    "uni_gram_vectors = uni_gram.fit_transform(df_sample['CleanedText'].values)\n",
    "uni_gram_vectors.shape "
   ]
  },
  {
   "cell_type": "code",
   "execution_count": 23,
   "metadata": {},
   "outputs": [
    {
     "name": "stdout",
     "output_type": "stream",
     "text": [
      "0.0\n",
      "0.880704845928\n"
     ]
    }
   ],
   "source": [
    "from sklearn import preprocessing\n",
    "uni_gram_vectors_norm = preprocessing.normalize(uni_gram_vectors)\n",
    "print(uni_gram_vectors_norm.min())\n",
    "print(uni_gram_vectors_norm.max())"
   ]
  },
  {
   "cell_type": "code",
   "execution_count": 24,
   "metadata": {},
   "outputs": [
    {
     "name": "stdout",
     "output_type": "stream",
     "text": [
      "[[ 0.  0.  0. ...,  0.  0.  0.]\n",
      " [ 0.  0.  0. ...,  0.  0.  0.]]\n"
     ]
    }
   ],
   "source": [
    "#Not shuffling the data as we want it on time basis\n",
    "X_train, X_test, y_train, y_test = train_test_split(uni_gram_vectors_norm,df_sample['Score'].values,test_size=0.3,shuffle=False)\n",
    "# print(X_train[:5])\n",
    "# print(y_train[:5])\n",
    "print(X_train[:2].toarray())"
   ]
  },
  {
   "cell_type": "code",
   "execution_count": 28,
   "metadata": {},
   "outputs": [
    {
     "name": "stdout",
     "output_type": "stream",
     "text": [
      "(1600, 34085) (1590, 34085)\n",
      "(3190, 34085) (1590, 34085)\n",
      "(4780, 34085) (1590, 34085)\n",
      "(6370, 34085) (1590, 34085)\n",
      "(7960, 34085) (1590, 34085)\n",
      "(9550, 34085) (1590, 34085)\n",
      "(11140, 34085) (1590, 34085)\n",
      "(12730, 34085) (1590, 34085)\n",
      "(14320, 34085) (1590, 34085)\n",
      "(15910, 34085) (1590, 34085)\n"
     ]
    }
   ],
   "source": [
    "from sklearn.model_selection import TimeSeriesSplit\n",
    "tscv = TimeSeriesSplit(n_splits=10)\n",
    "for train, cv in tscv.split(X_train):\n",
    "#     print(\"%s %s\" % (train, cv))\n",
    "    print(X_train[train].shape, X_train[cv].shape)"
   ]
  },
  {
   "cell_type": "markdown",
   "metadata": {},
   "source": [
    "Example how Time Series Splits data"
   ]
  },
  {
   "cell_type": "code",
   "execution_count": 29,
   "metadata": {
    "scrolled": true
   },
   "outputs": [
    {
     "name": "stdout",
     "output_type": "stream",
     "text": [
      "CPU times: user 2min 45s, sys: 1min 24s, total: 4min 10s\n",
      "Wall time: 6min 5s\n"
     ]
    }
   ],
   "source": [
    "%%time\n",
    "from sklearn.neighbors import KNeighborsClassifier\n",
    "n_splits = 10  #No of splits for Forward Chaining Cross Validation \n",
    "neigh_max = 100#Max no. of neighbours for KNN\n",
    "\n",
    "tscv = TimeSeriesSplit(n_splits=n_splits)\n",
    "k_acc = []#To store accuracy of different k values\n",
    "for k in range(1,neigh_max,2):\n",
    "    acc_list = []#To store accuracy of different fold\n",
    "    for train, cv in tscv.split(X_train):\n",
    "          if(train.size > k): \n",
    "            knn = KNeighborsClassifier(n_neighbors=k,algorithm='brute',n_jobs=-1)\n",
    "            knn.fit(X_train[train],y_train[train])\n",
    "            acc_list.append(knn.score(X_train[cv],y_train[cv])*100)\n",
    "    if(acc_list):        \n",
    "        acc_nparr = np.array(acc_list) \n",
    "    k_acc.append(acc_nparr.mean())\n",
    "k_acc = np.array(k_acc)    "
   ]
  },
  {
   "cell_type": "code",
   "execution_count": 30,
   "metadata": {},
   "outputs": [],
   "source": [
    "savetofile(k_acc,\"k_acc_uni_gram\")"
   ]
  },
  {
   "cell_type": "code",
   "execution_count": 2,
   "metadata": {},
   "outputs": [],
   "source": [
    "k_acc_uni_gram = openfromfile(\"k_acc_uni_gram\")"
   ]
  },
  {
   "cell_type": "code",
   "execution_count": 32,
   "metadata": {},
   "outputs": [
    {
     "data": {
      "text/plain": [
       "array([ 82.12578616,  84.87421384,  85.40251572,  85.81761006,\n",
       "        85.9245283 ,  85.88050314,  85.86792453,  85.8490566 ,\n",
       "        85.6918239 ,  85.66666667,  85.68553459,  85.64150943,\n",
       "        85.57861635,  85.58490566,  85.51572327,  85.5408805 ,\n",
       "        85.46540881,  85.40251572,  85.3836478 ,  85.34591195,\n",
       "        85.3081761 ,  85.25786164,  85.22641509,  85.24528302,\n",
       "        85.21383648,  85.17610063,  85.18238994,  85.1572327 ,\n",
       "        85.11320755,  85.12578616,  85.13207547,  85.10691824,\n",
       "        85.13207547,  85.10691824,  85.12578616,  85.12578616,\n",
       "        85.09433962,  85.08805031,  85.06289308,  85.05660377,\n",
       "        85.05031447,  85.06918239,  85.06289308,  85.03773585,\n",
       "        85.01257862,  85.02515723,  85.04402516,  85.00628931,\n",
       "        85.01257862,  85.        ])"
      ]
     },
     "execution_count": 32,
     "metadata": {},
     "output_type": "execute_result"
    }
   ],
   "source": [
    "k_acc_uni_gram"
   ]
  },
  {
   "cell_type": "code",
   "execution_count": 33,
   "metadata": {
    "scrolled": true
   },
   "outputs": [
    {
     "data": {
      "image/png": "[encoded data removed]",
      "text/plain": [
       "<matplotlib.figure.Figure at 0x3ffef39552b0>"
      ]
     },
     "metadata": {},
     "output_type": "display_data"
    }
   ],
   "source": [
    "sns.set_style(\"darkgrid\")\n",
    "plt.plot(np.arange(1,100,2),k_acc_uni_gram)\n",
    "plt.xlabel(\"K Nearest Neighbours\")\n",
    "plt.ylabel(\"Accuracy\")\n",
    "plt.title(\"Accuracy for different k values on uni_gram\")\n",
    "plt.show()\n"
   ]
  },
  {
   "cell_type": "markdown",
   "metadata": {},
   "source": [
    "With k=11-13 uni_gram has the highest accuracy of 86%"
   ]
  },
  {
   "cell_type": "markdown",
   "metadata": {},
   "source": [
    "### Grid Search CV\n",
    "For making the above code compact and get the best params "
   ]
  },
  {
   "cell_type": "code",
   "execution_count": null,
   "metadata": {},
   "outputs": [],
   "source": [
    "%time\n",
    "from sklearn.model_selection import GridSearchCV\n",
    "from sklearn.neighbors import KNeighborsClassifier\n",
    "\n",
    "knn = KNeighborsClassifier(algorithm='brute',n_jobs=-1)\n",
    "# neigh = np.arange(1,100,2)\n",
    "param_grid = {'n_neighbors':np.arange(1,100,2)} #params we need to try on classifier\n",
    "tscv = TimeSeriesSplit(n_splits=10) #For time based splitting\n",
    "gsv = GridSearchCV(knn,param_grid,cv=tscv,n_jobs=-1)\n",
    "gsv.fit(X_train,y_train)\n",
    "print(gsv.best_score_)"
   ]
  },
  {
   "cell_type": "code",
   "execution_count": 33,
   "metadata": {},
   "outputs": [
    {
     "name": "stdout",
     "output_type": "stream",
     "text": [
      "{'n_neighbors': 11}\n"
     ]
    }
   ],
   "source": [
    "print(gsv.best_params_)"
   ]
  },
  {
   "cell_type": "code",
   "execution_count": 36,
   "metadata": {},
   "outputs": [
    {
     "name": "stdout",
     "output_type": "stream",
     "text": [
      "Accuracy on training set: 83.613%\n"
     ]
    }
   ],
   "source": [
    "from sklearn.neighbors import KNeighborsClassifier\n",
    "\n",
    "knn = KNeighborsClassifier(n_neighbors=11)\n",
    "knn.fit(X_train,y_train)\n",
    "score = knn.score(X_test,y_test)\n",
    "print(\"Accuracy on training set: %0.3f%%\"%(score*100))"
   ]
  },
  {
   "cell_type": "code",
   "execution_count": 37,
   "metadata": {},
   "outputs": [
    {
     "name": "stdout",
     "output_type": "stream",
     "text": [
      "Accuracy on training set: 83.680%\n"
     ]
    }
   ],
   "source": [
    "from sklearn.neighbors import KNeighborsClassifier\n",
    "\n",
    "knn = KNeighborsClassifier(n_neighbors=13)\n",
    "knn.fit(X_train,y_train)\n",
    "score = knn.score(X_test,y_test)\n",
    "print(\"Accuracy on training set: %0.3f%%\"%(score*100))"
   ]
  },
  {
   "cell_type": "markdown",
   "metadata": {},
   "source": [
    "### bi-gram"
   ]
  },
  {
   "cell_type": "code",
   "execution_count": 12,
   "metadata": {},
   "outputs": [
    {
     "data": {
      "text/plain": [
       "(50000, 846601)"
      ]
     },
     "execution_count": 12,
     "metadata": {},
     "output_type": "execute_result"
    }
   ],
   "source": [
    "from sklearn.feature_extraction.text import CountVectorizer\n",
    "#taking one words and two consecutive words together\n",
    "bi_gram = CountVectorizer(ngram_range=(1,2))\n",
    "bi_gram_vectors = bi_gram.fit_transform(df_sample['CleanedText'].values)\n",
    "bi_gram_vectors.shape"
   ]
  },
  {
   "cell_type": "code",
   "execution_count": 13,
   "metadata": {},
   "outputs": [],
   "source": [
    "from sklearn import preprocessing\n",
    "bi_gram_vectors_norm = preprocessing.normalize(bi_gram_vectors)"
   ]
  },
  {
   "cell_type": "code",
   "execution_count": 48,
   "metadata": {},
   "outputs": [],
   "source": [
    "from sklearn.model_selection import train_test_split\n",
    "#Not shuffling the data as we want it on time basis\n",
    "X_train, X_test, y_train, y_test = train_test_split(bi_gram_vectors_norm,df_sample['Score'].values,test_size=0.3,shuffle=False)"
   ]
  },
  {
   "cell_type": "code",
   "execution_count": 17,
   "metadata": {},
   "outputs": [
    {
     "name": "stdout",
     "output_type": "stream",
     "text": [
      "CPU times: user 9min 26s, sys: 3min 31s, total: 12min 57s\n",
      "Wall time: 15min 57s\n"
     ]
    }
   ],
   "source": [
    "%%time\n",
    "from sklearn.neighbors import KNeighborsClassifier\n",
    "n_splits = 10  #No of splits for forward chaining Cross Validation \n",
    "neigh_max = 100#Max no. of neighbours for KNN\n",
    "\n",
    "tscv = TimeSeriesSplit(n_splits=n_splits)\n",
    "k_acc = []\n",
    "for k in range(1,neigh_max,2):\n",
    "    acc_list = []\n",
    "    for train, cv in tscv.split(X_train):\n",
    "          if(train.size > k): \n",
    "            knn = KNeighborsClassifier(n_neighbors=k,algorithm='brute',n_jobs=-1)\n",
    "            knn.fit(X_train[train],y_train[train])\n",
    "            acc_list.append(knn.score(X_train[cv],y_train[cv])*100)\n",
    "    if(acc_list):        \n",
    "        acc_nparr = np.array(acc_list) \n",
    "    k_acc.append(acc_nparr.mean())\n",
    "k_acc = np.array(k_acc)    "
   ]
  },
  {
   "cell_type": "code",
   "execution_count": 18,
   "metadata": {},
   "outputs": [],
   "source": [
    "#Saving the variable to access later without recomputing\n",
    "savetofile(k_acc,\"k_acc_bi_gram\")"
   ]
  },
  {
   "cell_type": "code",
   "execution_count": 19,
   "metadata": {},
   "outputs": [],
   "source": [
    "#Loading the variable from file\n",
    "k_acc_bi_gram = openfromfile(\"k_acc_bi_gram\")"
   ]
  },
  {
   "cell_type": "code",
   "execution_count": 20,
   "metadata": {},
   "outputs": [
    {
     "data": {
      "image/png": "[encoded data removed]",
      "text/plain": [
       "<matplotlib.figure.Figure at 0x3fff08134860>"
      ]
     },
     "metadata": {},
     "output_type": "display_data"
    }
   ],
   "source": [
    "sns.set_style(\"darkgrid\")\n",
    "plt.plot(np.arange(1,neigh_max,2),k_acc_bi_gram)\n",
    "plt.xlabel(\"K Nearest Neighbours\")\n",
    "plt.ylabel(\"Accuracy\")\n",
    "plt.title(\"Accuracy for different k values on bi_gram\")\n",
    "plt.show()\n"
   ]
  },
  {
   "cell_type": "markdown",
   "metadata": {},
   "source": [
    "With k=13 bi_gram has the highest accuracy of 86.5% in Cross Validation"
   ]
  },
  {
   "cell_type": "code",
   "execution_count": 49,
   "metadata": {},
   "outputs": [
    {
     "name": "stdout",
     "output_type": "stream",
     "text": [
      "Accuracy on training set: 85.033%\n"
     ]
    }
   ],
   "source": [
    "from sklearn.neighbors import KNeighborsClassifier\n",
    "\n",
    "knn = KNeighborsClassifier(n_neighbors=13)\n",
    "knn.fit(X_train,y_train)\n",
    "score = knn.score(X_test,y_test)\n",
    "print(\"Accuracy on training set: %0.3f%%\"%(score*100))"
   ]
  },
  {
   "cell_type": "markdown",
   "metadata": {},
   "source": [
    "## tf-idf\n",
    "\n",
    "TFIDF = TF x IDF<br>\n",
    "<br>Term Frequency: This summarizes how often a given word appears within a document.<br>\n",
    "Inverse Document Frequency: This downscales words that appear a lot across documents in the corpus.\n",
    "<br><br>\n",
    "In information retrieval, tf–idf or TFIDF, short for term frequency–inverse document frequency, is a numerical statistic that is intended to reflect how important a word is to a document in a collection or corpus. The tf-idf value increases proportionally to the number of times a word appears in the document and is offset by the frequency of the word in the corpus, which helps to adjust for the fact that some words appear more frequently in general. It is often used as a weighting factor in searches of information retrieval, text mining, and user modeling. Tf-idf is one of the most popular term-weighting schemes today; 83% of text-based recommender systems in digital libraries use tf-idf."
   ]
  },
  {
   "cell_type": "markdown",
   "metadata": {},
   "source": [
    "![alt text](https://s3-ap-south-1.amazonaws.com/av-blog-media/wp-content/uploads/2017/01/11181616/image-4.png)"
   ]
  },
  {
   "cell_type": "code",
   "execution_count": 32,
   "metadata": {},
   "outputs": [
    {
     "name": "stdout",
     "output_type": "stream",
     "text": [
      "CPU times: user 9.14 s, sys: 52 ms, total: 9.2 s\n",
      "Wall time: 9.19 s\n"
     ]
    }
   ],
   "source": [
    "%%time\n",
    "from sklearn.feature_extraction.text import TfidfVectorizer\n",
    "tfidf = TfidfVectorizer(ngram_range=(1,2)) #Using bi-grams\n",
    "tfidf_vec = tfidf.fit_transform(df_sample['CleanedText'].values)\n",
    "tfidf_vec.shape"
   ]
  },
  {
   "cell_type": "code",
   "execution_count": 33,
   "metadata": {},
   "outputs": [
    {
     "data": {
      "text/plain": [
       "(50000, 845230)"
      ]
     },
     "execution_count": 33,
     "metadata": {},
     "output_type": "execute_result"
    }
   ],
   "source": [
    "tfidf_vec.shape"
   ]
  },
  {
   "cell_type": "code",
   "execution_count": 34,
   "metadata": {},
   "outputs": [],
   "source": [
    "from sklearn import preprocessing\n",
    "from sklearn.model_selection import train_test_split\n",
    "\n",
    "tfidf_vec_norm = preprocessing.normalize(tfidf_vec)\n",
    "\n",
    "#Not shuffling the data as we want it on time basis\n",
    "X_train, X_test, y_train, y_test = train_test_split(tfidf_vec_norm,df_sample['Score'].values,test_size=0.3,shuffle=False)"
   ]
  },
  {
   "cell_type": "code",
   "execution_count": 40,
   "metadata": {},
   "outputs": [
    {
     "name": "stdout",
     "output_type": "stream",
     "text": [
      "CPU times: user 22min 56s, sys: 1min 46s, total: 24min 42s\n",
      "Wall time: 24min 43s\n"
     ]
    }
   ],
   "source": [
    "%%time\n",
    "from sklearn.model_selection import TimeSeriesSplit\n",
    "from sklearn.neighbors import KNeighborsClassifier\n",
    "n_splits = 10  #No of splits for forward chaining Cross Validation \n",
    "neigh_max = 100#Max no. of neighbours for KNN\n",
    "\n",
    "tscv = TimeSeriesSplit(n_splits=n_splits)\n",
    "k_acc = []\n",
    "for k in range(1,neigh_max,2):\n",
    "    acc_list = []\n",
    "    for train, cv in tscv.split(X_train):\n",
    "          if(train.size > k): \n",
    "            knn = KNeighborsClassifier(n_neighbors=k,algorithm='brute',n_jobs=1)\n",
    "            knn.fit(X_train[train],y_train[train])\n",
    "            acc_list.append(knn.score(X_train[cv],y_train[cv])*100)\n",
    "    if(acc_list):        \n",
    "        acc_nparr = np.array(acc_list) \n",
    "    k_acc.append(acc_nparr.mean())\n",
    "k_acc = np.array(k_acc)    \n",
    "\n",
    "#Saving the variable to access later without recomputing\n",
    "savetofile(k_acc,\"k_acc_tfidf\")"
   ]
  },
  {
   "cell_type": "code",
   "execution_count": 41,
   "metadata": {},
   "outputs": [],
   "source": [
    "#Loading the variable from file\n",
    "k_acc_tfidf = openfromfile(\"k_acc_tfidf\")"
   ]
  },
  {
   "cell_type": "code",
   "execution_count": 42,
   "metadata": {},
   "outputs": [
    {
     "data": {
      "image/png": "[encoded data removed]",
      "text/plain": [
       "<matplotlib.figure.Figure at 0x3fff098b84e0>"
      ]
     },
     "metadata": {},
     "output_type": "display_data"
    }
   ],
   "source": [
    "sns.set_style(\"darkgrid\")\n",
    "plt.plot(np.arange(1,neigh_max,2),k_acc_tfidf)\n",
    "plt.xlabel(\"K Nearest Neighbours\")\n",
    "plt.ylabel(\"Accuracy\")\n",
    "plt.title(\"Accuracy for different k values on tfidf\")\n",
    "plt.show()"
   ]
  },
  {
   "cell_type": "markdown",
   "metadata": {},
   "source": [
    "With k=9 bi_gram has the highest accuracy of around 85.9% in Cross Validation"
   ]
  },
  {
   "cell_type": "code",
   "execution_count": 47,
   "metadata": {},
   "outputs": [
    {
     "name": "stdout",
     "output_type": "stream",
     "text": [
      "Accuracy on training set: 84.040%\n"
     ]
    }
   ],
   "source": [
    "from sklearn.neighbors import KNeighborsClassifier\n",
    "\n",
    "knn = KNeighborsClassifier(n_neighbors=9)\n",
    "knn.fit(X_train,y_train)\n",
    "score = knn.score(X_test,y_test)\n",
    "print(\"Accuracy on training set: %0.3f%%\"%(score*100))"
   ]
  },
  {
   "cell_type": "markdown",
   "metadata": {},
   "source": [
    "## Gensim\n",
    "Gensim is a robust open-source vector space modeling and topic modeling toolkit implemented in Python. It uses NumPy, SciPy and optionally Cython for performance. Gensim is specifically designed to handle large text collections, using data streaming and efficient incremental algorithms, which differentiates it from most other scientific software packages that only target batch and in-memory processing."
   ]
  },
  {
   "cell_type": "markdown",
   "metadata": {},
   "source": [
    "## Word2Vec\n",
    "[Refer Docs] :https://radimrehurek.com/gensim/models/word2vec.html "
   ]
  },
  {
   "cell_type": "code",
   "execution_count": 8,
   "metadata": {
    "scrolled": true
   },
   "outputs": [],
   "source": [
    "w2vec_model = gensim.models.Word2Vec.load('w2vmodel') #Loading the model from file in the disk trained in EDA on complete dataset"
   ]
  },
  {
   "cell_type": "code",
   "execution_count": 9,
   "metadata": {
    "scrolled": true
   },
   "outputs": [
    {
     "data": {
      "text/plain": [
       "34906"
      ]
     },
     "execution_count": 9,
     "metadata": {},
     "output_type": "execute_result"
    }
   ],
   "source": [
    "w2v_vocub = w2vec_model.wv.vocab\n",
    "len(w2v_vocub)"
   ]
  },
  {
   "cell_type": "code",
   "execution_count": 10,
   "metadata": {
    "scrolled": false
   },
   "outputs": [
    {
     "data": {
      "text/plain": [
       "[('flavorsso', 0.5832007527351379),\n",
       " ('reed', 0.5580089688301086),\n",
       " ('preground', 0.541571319103241),\n",
       " ('guin', 0.5115907192230225),\n",
       " ('lowfat', 0.5012710094451904),\n",
       " ('grammar', 0.5010131597518921),\n",
       " ('keiller', 0.49844658374786377),\n",
       " ('themwhil', 0.4952102601528168),\n",
       " (\"bulb'\", 0.48679518699645996),\n",
       " ('itnext', 0.4758400321006775)]"
      ]
     },
     "execution_count": 10,
     "metadata": {},
     "output_type": "execute_result"
    }
   ],
   "source": [
    "w2vec_model.wv.most_similar('tast')"
   ]
  },
  {
   "cell_type": "code",
   "execution_count": 12,
   "metadata": {},
   "outputs": [],
   "source": [
    "list_of_sent=[]\n",
    "for sent in df_sample['CleanedText'].values:\n",
    "    sentence=[]\n",
    "    for w in sent.split():    \n",
    "            sentence.append(w) \n",
    "    list_of_sent.append(sentence)"
   ]
  },
  {
   "cell_type": "code",
   "execution_count": 14,
   "metadata": {},
   "outputs": [
    {
     "data": {
      "text/plain": [
       "array([ 0.0078175 ,  0.00240794,  0.00192272,  0.00973465, -0.00494627,\n",
       "       -0.00143133, -0.00332859, -0.00203311, -0.00496661,  0.00711489,\n",
       "       -0.00895142, -0.00138186,  0.00392423,  0.00494286,  0.004079  ,\n",
       "       -0.00060105,  0.00106068, -0.00353141,  0.00098447, -0.00206113,\n",
       "        0.00185607,  0.00986566, -0.00648976,  0.00141037, -0.00687073,\n",
       "       -0.00957662, -0.00299725, -0.00439115,  0.00275984,  0.00096321,\n",
       "        0.00763292,  0.00440738,  0.00315914,  0.00276639, -0.00862832,\n",
       "       -0.00382569,  0.00372519, -0.00635617,  0.00257477,  0.0037355 ,\n",
       "        0.00481135,  0.00269675,  0.00314493,  0.00578195, -0.00579357,\n",
       "        0.0085771 ,  0.0083689 , -0.00441553,  0.00885531,  0.00583697], dtype=float32)"
      ]
     },
     "execution_count": 14,
     "metadata": {},
     "output_type": "execute_result"
    }
   ],
   "source": [
    "w2vec_model.wv['tast']"
   ]
  },
  {
   "cell_type": "markdown",
   "metadata": {},
   "source": [
    "## Avg Word2Vec\n",
    "* One of the most naive but good ways to convert a sentence into a vector\n",
    "* Convert all the words to vectors and then just take the avg of the vectors the resulting vector represent the sentence "
   ]
  },
  {
   "cell_type": "code",
   "execution_count": 15,
   "metadata": {},
   "outputs": [
    {
     "name": "stdout",
     "output_type": "stream",
     "text": [
      "CPU times: user 6.32 s, sys: 12 ms, total: 6.33 s\n",
      "Wall time: 6.33 s\n"
     ]
    }
   ],
   "source": [
    "%%time\n",
    "avg_vec = [] #List to store all the avg w2vec's \n",
    "# np.seterr(divide='ignore', invalid='ignore')\n",
    "for sent in list_of_sent:\n",
    "    cnt = 0 #to count no of words in each reviews\n",
    "    sent_vec = np.zeros(50) #Initializing with zeroes\n",
    "    for word in sent:\n",
    "        try:\n",
    "            word = word.decode(\"utf-8\") #Decoding from byte string to unicode string\n",
    "            wvec = w2vec_model.wv[word] #Vector of each using w2v model\n",
    "            sent_vec += wvec #Adding the vectors \n",
    "            cnt += 1\n",
    "        except: \n",
    "            pass #When the word is not in the dictionary then do nothing \n",
    "    sent_vec /= cnt #Taking average of vectors sum of the particular review\n",
    "    avg_vec.append(sent_vec) #Storing the avg w2vec's for each review"
   ]
  },
  {
   "cell_type": "code",
   "execution_count": 16,
   "metadata": {},
   "outputs": [
    {
     "data": {
      "text/plain": [
       "False"
      ]
     },
     "execution_count": 16,
     "metadata": {},
     "output_type": "execute_result"
    }
   ],
   "source": [
    "np.isnan(avg_vec).any()"
   ]
  },
  {
   "cell_type": "code",
   "execution_count": 17,
   "metadata": {},
   "outputs": [],
   "source": [
    "from sklearn import preprocessing\n",
    "from sklearn.model_selection import train_test_split\n",
    "\n",
    "avg_vec_norm = preprocessing.normalize(avg_vec)\n",
    "\n",
    "#Not shuffling the data as we want it on time basis\n",
    "X_train, X_test, y_train, y_test = train_test_split(avg_vec_norm,df_sample['Score'].values,test_size=0.3,shuffle=False)"
   ]
  },
  {
   "cell_type": "code",
   "execution_count": 18,
   "metadata": {},
   "outputs": [
    {
     "data": {
      "text/plain": [
       "(25000, 50)"
      ]
     },
     "execution_count": 18,
     "metadata": {},
     "output_type": "execute_result"
    }
   ],
   "source": [
    "avg_vec_norm.shape"
   ]
  },
  {
   "cell_type": "code",
   "execution_count": 19,
   "metadata": {},
   "outputs": [
    {
     "data": {
      "text/plain": [
       "0.63684579255016116"
      ]
     },
     "execution_count": 19,
     "metadata": {},
     "output_type": "execute_result"
    }
   ],
   "source": [
    "avg_vec_norm.max()"
   ]
  },
  {
   "cell_type": "code",
   "execution_count": null,
   "metadata": {},
   "outputs": [],
   "source": [
    "%time\n",
    "from sklearn.model_selection import GridSearchCV\n",
    "from sklearn.neighbors import KNeighborsClassifier\n",
    "\n",
    "knn = KNeighborsClassifier(algorithm='brute')\n",
    "param_grid = {'n_neighbors':np.arange(1,100,2)}\n",
    "tscv = TimeSeriesSplit(n_splits=10) #For \n",
    "gsv = GridSearchCV(knn,param_grid,cv=tscv,n_jobs=-1)\n",
    "gsv.fit(X_train,y_train)\n",
    "print(gsv.best_score_)"
   ]
  },
  {
   "cell_type": "code",
   "execution_count": 1,
   "metadata": {},
   "outputs": [],
   "source": [
    "%%time\n",
    "from sklearn.model_selection import TimeSeriesSplit\n",
    "from sklearn.neighbors import KNeighborsClassifier\n",
    "n_splits = 10  #No of splits for forward chaining Cross Validation \n",
    "neigh_max = 100#Max no. of neighbours for KNN\n",
    "\n",
    "tscv = TimeSeriesSplit(n_splits=n_splits)\n",
    "k_acc = []\n",
    "for k in range(1,neigh_max,2):\n",
    "    acc_list = []\n",
    "    for train, cv in tscv.split(X_train):\n",
    "          if(train.size > k): \n",
    "            knn = KNeighborsClassifier(n_neighbors=k,algorithm='brute',n_jobs=-1)\n",
    "            knn.fit(X_train[train],y_train[train])\n",
    "            acc_list.append(knn.score(X_train[cv],y_train[cv])*100)\n",
    "    if(acc_list):        \n",
    "        acc_nparr = np.array(acc_list) \n",
    "    k_acc.append(acc_nparr.mean())\n",
    "k_acc = np.array(k_acc)    \n",
    "\n",
    "#Saving the variable to access later without recomputing\n",
    "savetofile(k_acc,\"k_acc_avgw2v\")"
   ]
  },
  {
   "cell_type": "code",
   "execution_count": null,
   "metadata": {},
   "outputs": [],
   "source": [
    "#Loading the variable from file\n",
    "k_acc_avgw2v = openfromfile(\"k_acc_avgw2v\")"
   ]
  },
  {
   "cell_type": "code",
   "execution_count": null,
   "metadata": {},
   "outputs": [],
   "source": [
    "sns.set_style(\"darkgrid\")\n",
    "plt.plot(np.arange(1,neigh_max,2),k_acc_tfidf)\n",
    "plt.xlabel(\"K Nearest Neighbours\")\n",
    "plt.ylabel(\"Accuracy\")\n",
    "plt.title(\"Accuracy for different k values on tfidf\")\n",
    "plt.show()\n",
    "\n",
    "With k=9 bi_gram has the highest accuracy of around 85.9% in Cross Validation"
   ]
  },
  {
   "cell_type": "code",
   "execution_count": null,
   "metadata": {},
   "outputs": [],
   "source": [
    "from sklearn.neighbors import KNeighborsClassifier\n",
    "\n",
    "knn = KNeighborsClassifier(n_neighbors=9)\n",
    "knn.fit(X_train,y_train)\n",
    "score = knn.score(X_test,y_test)\n",
    "print(\"Accuracy on training set: %0.3f%%\"%(score*100))"
   ]
  },
  {
   "cell_type": "markdown",
   "metadata": {},
   "source": [
    "## Tf-idf W2Vec\n",
    "* Another way to covert sentence into vectors\n",
    "* Take weighted sum of the vectors divided by the sum of all the tfidf's \n",
    "<br>i.e. (tfidf(word) x w2v(word))/sum(tfidf's)"
   ]
  },
  {
   "cell_type": "code",
   "execution_count": null,
   "metadata": {},
   "outputs": [],
   "source": [
    "%%time\n",
    "tfidfw2v_vecs = [] #List to store all the tfidf w2vec's \n",
    "review = 0\n",
    "for sent in list_of_sent:\n",
    "    weighted_sum  = 0 \n",
    "    sent_vec = np.zeros(50) #Initializing with zeroes\n",
    "    for word in sent:\n",
    "        try:\n",
    "            word = word.decode(\"utf-8\") #Decoding from byte string to unicode string\n",
    "            wvec = w2vec_model.wv[word] #Vector of each using w2v model\n",
    "            sent_vec += (wvec * tfidf)\n",
    "            weighted_sum += tfidf \n",
    "        except: \n",
    "            pass #When the word is not in the dictionary then do nothing \n",
    "    sent_vec /= weighted_sum\n",
    "    tfidf_w2vecs.append(sent_vec)\n",
    "    review += 1\n",
    "    "
   ]
  },
  {
   "cell_type": "code",
   "execution_count": null,
   "metadata": {},
   "outputs": [],
   "source": [
    "from sklearn import preprocessing\n",
    "from sklearn.model_selection import train_test_split\n",
    "\n",
    "tfidfw2v_vecs_norm = preprocessing.normalize(tfidfw2v_vecs)\n",
    "\n",
    "#Not shuffling the data as we want it on time basis\n",
    "X_train, X_test, y_train, y_test = train_test_split(tfidfw2v_vecs_norm,df_sample['Score'].values,test_size=0.3,shuffle=False)"
   ]
  },
  {
   "cell_type": "code",
   "execution_count": null,
   "metadata": {},
   "outputs": [],
   "source": [
    "%time\n",
    "from sklearn.model_selection import GridSearchCV\n",
    "from sklearn.neighbors import KNeighborsClassifier\n",
    "\n",
    "knn = KNeighborsClassifier(algorithm='brute')\n",
    "param_grid = {'n_neighbors':np.arange(1,100,2)}\n",
    "tscv = TimeSeriesSplit(n_splits=10) #For \n",
    "gsv = GridSearchCV(knn,param_grid,cv=tscv,n_jobs=-1)\n",
    "gsv.fit(X_train,y_train)\n",
    "print(gsv.best_score_)"
   ]
  },
  {
   "cell_type": "code",
   "execution_count": null,
   "metadata": {},
   "outputs": [],
   "source": [
    "%%time\n",
    "from sklearn.model_selection import TimeSeriesSplit\n",
    "from sklearn.neighbors import KNeighborsClassifier\n",
    "n_splits = 10  #No of splits for forward chaining Cross Validation \n",
    "neigh_max = 100#Max no. of neighbours for KNN\n",
    "\n",
    "tscv = TimeSeriesSplit(n_splits=n_splits)\n",
    "k_acc = []\n",
    "for k in range(1,neigh_max,2):\n",
    "    acc_list = []\n",
    "    for train, cv in tscv.split(X_train):\n",
    "          if(train.size > k): \n",
    "            knn = KNeighborsClassifier(n_neighbors=k,algorithm='brute',n_jobs=-1)\n",
    "            knn.fit(X_train[train],y_train[train])\n",
    "            acc_list.append(knn.score(X_train[cv],y_train[cv])*100)\n",
    "    if(acc_list):        \n",
    "        acc_nparr = np.array(acc_list) \n",
    "    k_acc.append(acc_nparr.mean())\n",
    "k_acc = np.array(k_acc)    \n",
    "\n",
    "#Saving the variable to access later without recomputing\n",
    "savetofile(k_acc,\"k_acc_avgw2v\")"
   ]
  },
  {
   "cell_type": "code",
   "execution_count": null,
   "metadata": {},
   "outputs": [],
   "source": [
    "#Loading the variable from file\n",
    "k_acc_tfidfw2v = openfromfile(\"k_acc_tfidfw2v\")"
   ]
  },
  {
   "cell_type": "code",
   "execution_count": null,
   "metadata": {},
   "outputs": [],
   "source": [
    "sns.set_style(\"darkgrid\")\n",
    "plt.plot(np.arange(1,neigh_max,2),k_acc_tfidfw2v)\n",
    "plt.xlabel(\"K Nearest Neighbours\")\n",
    "plt.ylabel(\"Accuracy\")\n",
    "plt.title(\"Accuracy for different k values on tfidf w2v\")\n",
    "plt.show()\n",
    "\n",
    "With k=9 tfidfw2v has the highest accuracy of around 85.9% in Cross Validation"
   ]
  },
  {
   "cell_type": "code",
   "execution_count": null,
   "metadata": {},
   "outputs": [],
   "source": [
    "from sklearn.neighbors import KNeighborsClassifier\n",
    "\n",
    "knn = KNeighborsClassifier(n_neighbors=13)\n",
    "knn.fit(X_train,y_train)\n",
    "score = knn.score(X_test,y_test)\n",
    "print(\"Accuracy on training set: %0.3f%%\"%(score*100))"
   ]
  },
  {
   "cell_type": "markdown",
   "metadata": {},
   "source": [
    "tfidf w2vec gives the best result in classifying the reviews as positive or negative"
   ]
  },
  {
   "cell_type": "markdown",
   "metadata": {},
   "source": [
    "## References:\n",
    "(1) http://blog.aylien.com/10-common-nlp-terms-explained-for-the-text/<br>\n",
    "(2) https://en.wikipedia.org/<br>\n",
    "(3) https://buhrmann.github.io/tfidf-analysis.html<br>"
   ]
  }
 ],
 "metadata": {
  "kernelspec": {
   "display_name": "Python 3",
   "language": "python",
   "name": "python3"
  },
  "language_info": {
   "codemirror_mode": {
    "name": "ipython",
    "version": 3
   },
   "file_extension": ".py",
   "mimetype": "text/x-python",
   "name": "python",
   "nbconvert_exporter": "python",
   "pygments_lexer": "ipython3",
   "version": "3.6.5"
  }
 },
 "nbformat": 4,
 "nbformat_minor": 2
}
